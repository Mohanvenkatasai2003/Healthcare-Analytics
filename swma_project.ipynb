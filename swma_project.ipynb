{
  "nbformat": 4,
  "nbformat_minor": 0,
  "metadata": {
    "colab": {
      "provenance": []
    },
    "kernelspec": {
      "name": "python3",
      "display_name": "Python 3"
    },
    "language_info": {
      "name": "python"
    }
  },
  "cells": [
    {
      "cell_type": "code",
      "source": [
        "#Basic Packages\n",
        "import numpy as np # linear algebra\n",
        "import pandas as pd # data processing, CSV file I/O (e.g. pd.read_csv)\n",
        "import matplotlib.pyplot as plt # Data Visualization\n",
        "import seaborn as sns # Advance Data Visualization\n",
        "%matplotlib inline\n",
        "\n",
        "#OS packages\n",
        "import os\n",
        "\n",
        "#Encoding Packages\n",
        "import pandas as pd\n",
        "from sklearn.preprocessing import LabelEncoder\n",
        "le = LabelEncoder()\n",
        "\n",
        "#Scaling Packages\n",
        "from sklearn import preprocessing\n",
        "mm_scaler = preprocessing.MinMaxScaler()\n",
        "\n",
        "import statsmodels.api as sm\n",
        "from statsmodels.stats.outliers_influence import variance_inflation_factor\n",
        "\n",
        "#Data Modelling Packages\n",
        "from sklearn.model_selection import train_test_split\n",
        "\n",
        "from imblearn.over_sampling import RandomOverSampler\n",
        "sm = RandomOverSampler(random_state=294,sampling_strategy='not majority')\n",
        "\n",
        "import sklearn.metrics\n",
        "from sklearn.model_selection import train_test_split\n",
        "\n",
        "#Model Packages\n",
        "import lightgbm as lgb"
      ],
      "metadata": {
        "id": "09W17wL_w-Rc"
      },
      "execution_count": 1,
      "outputs": []
    },
    {
      "cell_type": "code",
      "source": [
        "import os\n",
        "for dirname, _, filenames in os.walk('/kaggle/input'):\n",
        "    for filename in filenames:\n",
        "        print(os.path.join(dirname, filename))"
      ],
      "metadata": {
        "id": "7bAkiR4axho5"
      },
      "execution_count": 3,
      "outputs": []
    },
    {
      "cell_type": "code",
      "source": [
        "df_Train = pd.read_csv('train.csv')\n",
        "df_Test = pd.read_csv('test.csv')"
      ],
      "metadata": {
        "id": "t060g1JuxmGA"
      },
      "execution_count": 4,
      "outputs": []
    },
    {
      "cell_type": "code",
      "source": [
        "print(np.intersect1d(df_Train['case_id'], df_Test['case_id']).shape[0]/df_Train['case_id'].nunique())\n",
        "common_ids = len(set(df_Test['case_id'].unique()).intersection(set(df_Train['case_id'].unique())))\n",
        "\n",
        "print(\"Common IDs : \",common_ids)\n",
        "\n",
        "# No - Data Leak between Train and Test !\n",
        "\n",
        "print(\"Unique IDs : \",df_Test.shape[0] - common_ids)"
      ],
      "metadata": {
        "colab": {
          "base_uri": "https://localhost:8080/"
        },
        "id": "xcMUqcSqx4vN",
        "outputId": "dc413b58-155f-4cff-a3e1-0a21d9fa6b61"
      },
      "execution_count": 5,
      "outputs": [
        {
          "output_type": "stream",
          "name": "stdout",
          "text": [
            "0.0\n",
            "Common IDs :  0\n",
            "Unique IDs :  26603\n"
          ]
        }
      ]
    },
    {
      "cell_type": "code",
      "source": [
        "print(np.intersect1d(df_Train['patientid'], df_Test['patientid']).shape[0]/df_Train['patientid'].nunique())\n",
        "common_ids = len(set(df_Test['patientid'].unique()).intersection(set(df_Train['patientid'].unique())))\n",
        "\n",
        "print(\"Common IDs : \",common_ids)\n",
        "\n",
        "# No - Data Leak between Train and Test !\n",
        "\n",
        "print(\"Unique IDs : \",df_Test.shape[0] - common_ids)"
      ],
      "metadata": {
        "colab": {
          "base_uri": "https://localhost:8080/"
        },
        "id": "drdNlP2kyA8n",
        "outputId": "b5bb66bf-e134-4d01-9342-137419cbe1a7"
      },
      "execution_count": 6,
      "outputs": [
        {
          "output_type": "stream",
          "name": "stdout",
          "text": [
            "0.0\n",
            "Common IDs :  0\n",
            "Unique IDs :  26603\n"
          ]
        }
      ]
    },
    {
      "cell_type": "code",
      "source": [
        "df_Train.head()"
      ],
      "metadata": {
        "colab": {
          "base_uri": "https://localhost:8080/",
          "height": 409
        },
        "id": "jQANX3UKyGp0",
        "outputId": "802163ac-2617-401e-863b-8ded6a94a9c6"
      },
      "execution_count": 7,
      "outputs": [
        {
          "output_type": "execute_result",
          "data": {
            "text/plain": [
              "   case_id  Hospital_code Hospital_type_code  City_Code_Hospital  \\\n",
              "0        1              8                  c                   3   \n",
              "1        2              2                  c                   5   \n",
              "2        3             10                  e                   1   \n",
              "3        4             26                  b                   2   \n",
              "4        5             26                  b                   2   \n",
              "\n",
              "  Hospital_region_code  Available Extra Rooms in Hospital    Department  \\\n",
              "0                    Z                                  3  radiotherapy   \n",
              "1                    Z                                  2  radiotherapy   \n",
              "2                    X                                  2    anesthesia   \n",
              "3                    Y                                  2  radiotherapy   \n",
              "4                    Y                                  2  radiotherapy   \n",
              "\n",
              "  Ward_Type Ward_Facility_Code  Bed Grade  patientid  City_Code_Patient  \\\n",
              "0         R                  F        2.0    31397.0                7.0   \n",
              "1         S                  F        2.0    31397.0                7.0   \n",
              "2         S                  E        2.0    31397.0                7.0   \n",
              "3         R                  D        2.0    31397.0                7.0   \n",
              "4         S                  D        2.0    31397.0                7.0   \n",
              "\n",
              "  Type of Admission Severity of Illness  Visitors with Patient    Age  \\\n",
              "0         Emergency             Extreme                    2.0  51-60   \n",
              "1            Trauma             Extreme                    2.0  51-60   \n",
              "2            Trauma             Extreme                    2.0  51-60   \n",
              "3            Trauma             Extreme                    2.0  51-60   \n",
              "4            Trauma             Extreme                    2.0  51-60   \n",
              "\n",
              "   Admission_Deposit   Stay  \n",
              "0             4911.0   0-10  \n",
              "1             5954.0  41-50  \n",
              "2             4745.0  31-40  \n",
              "3             7272.0  41-50  \n",
              "4             5558.0  41-50  "
            ],
            "text/html": [
              "\n",
              "  <div id=\"df-5504035c-be13-468d-9ebb-8cf7202ad526\">\n",
              "    <div class=\"colab-df-container\">\n",
              "      <div>\n",
              "<style scoped>\n",
              "    .dataframe tbody tr th:only-of-type {\n",
              "        vertical-align: middle;\n",
              "    }\n",
              "\n",
              "    .dataframe tbody tr th {\n",
              "        vertical-align: top;\n",
              "    }\n",
              "\n",
              "    .dataframe thead th {\n",
              "        text-align: right;\n",
              "    }\n",
              "</style>\n",
              "<table border=\"1\" class=\"dataframe\">\n",
              "  <thead>\n",
              "    <tr style=\"text-align: right;\">\n",
              "      <th></th>\n",
              "      <th>case_id</th>\n",
              "      <th>Hospital_code</th>\n",
              "      <th>Hospital_type_code</th>\n",
              "      <th>City_Code_Hospital</th>\n",
              "      <th>Hospital_region_code</th>\n",
              "      <th>Available Extra Rooms in Hospital</th>\n",
              "      <th>Department</th>\n",
              "      <th>Ward_Type</th>\n",
              "      <th>Ward_Facility_Code</th>\n",
              "      <th>Bed Grade</th>\n",
              "      <th>patientid</th>\n",
              "      <th>City_Code_Patient</th>\n",
              "      <th>Type of Admission</th>\n",
              "      <th>Severity of Illness</th>\n",
              "      <th>Visitors with Patient</th>\n",
              "      <th>Age</th>\n",
              "      <th>Admission_Deposit</th>\n",
              "      <th>Stay</th>\n",
              "    </tr>\n",
              "  </thead>\n",
              "  <tbody>\n",
              "    <tr>\n",
              "      <th>0</th>\n",
              "      <td>1</td>\n",
              "      <td>8</td>\n",
              "      <td>c</td>\n",
              "      <td>3</td>\n",
              "      <td>Z</td>\n",
              "      <td>3</td>\n",
              "      <td>radiotherapy</td>\n",
              "      <td>R</td>\n",
              "      <td>F</td>\n",
              "      <td>2.0</td>\n",
              "      <td>31397.0</td>\n",
              "      <td>7.0</td>\n",
              "      <td>Emergency</td>\n",
              "      <td>Extreme</td>\n",
              "      <td>2.0</td>\n",
              "      <td>51-60</td>\n",
              "      <td>4911.0</td>\n",
              "      <td>0-10</td>\n",
              "    </tr>\n",
              "    <tr>\n",
              "      <th>1</th>\n",
              "      <td>2</td>\n",
              "      <td>2</td>\n",
              "      <td>c</td>\n",
              "      <td>5</td>\n",
              "      <td>Z</td>\n",
              "      <td>2</td>\n",
              "      <td>radiotherapy</td>\n",
              "      <td>S</td>\n",
              "      <td>F</td>\n",
              "      <td>2.0</td>\n",
              "      <td>31397.0</td>\n",
              "      <td>7.0</td>\n",
              "      <td>Trauma</td>\n",
              "      <td>Extreme</td>\n",
              "      <td>2.0</td>\n",
              "      <td>51-60</td>\n",
              "      <td>5954.0</td>\n",
              "      <td>41-50</td>\n",
              "    </tr>\n",
              "    <tr>\n",
              "      <th>2</th>\n",
              "      <td>3</td>\n",
              "      <td>10</td>\n",
              "      <td>e</td>\n",
              "      <td>1</td>\n",
              "      <td>X</td>\n",
              "      <td>2</td>\n",
              "      <td>anesthesia</td>\n",
              "      <td>S</td>\n",
              "      <td>E</td>\n",
              "      <td>2.0</td>\n",
              "      <td>31397.0</td>\n",
              "      <td>7.0</td>\n",
              "      <td>Trauma</td>\n",
              "      <td>Extreme</td>\n",
              "      <td>2.0</td>\n",
              "      <td>51-60</td>\n",
              "      <td>4745.0</td>\n",
              "      <td>31-40</td>\n",
              "    </tr>\n",
              "    <tr>\n",
              "      <th>3</th>\n",
              "      <td>4</td>\n",
              "      <td>26</td>\n",
              "      <td>b</td>\n",
              "      <td>2</td>\n",
              "      <td>Y</td>\n",
              "      <td>2</td>\n",
              "      <td>radiotherapy</td>\n",
              "      <td>R</td>\n",
              "      <td>D</td>\n",
              "      <td>2.0</td>\n",
              "      <td>31397.0</td>\n",
              "      <td>7.0</td>\n",
              "      <td>Trauma</td>\n",
              "      <td>Extreme</td>\n",
              "      <td>2.0</td>\n",
              "      <td>51-60</td>\n",
              "      <td>7272.0</td>\n",
              "      <td>41-50</td>\n",
              "    </tr>\n",
              "    <tr>\n",
              "      <th>4</th>\n",
              "      <td>5</td>\n",
              "      <td>26</td>\n",
              "      <td>b</td>\n",
              "      <td>2</td>\n",
              "      <td>Y</td>\n",
              "      <td>2</td>\n",
              "      <td>radiotherapy</td>\n",
              "      <td>S</td>\n",
              "      <td>D</td>\n",
              "      <td>2.0</td>\n",
              "      <td>31397.0</td>\n",
              "      <td>7.0</td>\n",
              "      <td>Trauma</td>\n",
              "      <td>Extreme</td>\n",
              "      <td>2.0</td>\n",
              "      <td>51-60</td>\n",
              "      <td>5558.0</td>\n",
              "      <td>41-50</td>\n",
              "    </tr>\n",
              "  </tbody>\n",
              "</table>\n",
              "</div>\n",
              "      <button class=\"colab-df-convert\" onclick=\"convertToInteractive('df-5504035c-be13-468d-9ebb-8cf7202ad526')\"\n",
              "              title=\"Convert this dataframe to an interactive table.\"\n",
              "              style=\"display:none;\">\n",
              "        \n",
              "  <svg xmlns=\"http://www.w3.org/2000/svg\" height=\"24px\"viewBox=\"0 0 24 24\"\n",
              "       width=\"24px\">\n",
              "    <path d=\"M0 0h24v24H0V0z\" fill=\"none\"/>\n",
              "    <path d=\"M18.56 5.44l.94 2.06.94-2.06 2.06-.94-2.06-.94-.94-2.06-.94 2.06-2.06.94zm-11 1L8.5 8.5l.94-2.06 2.06-.94-2.06-.94L8.5 2.5l-.94 2.06-2.06.94zm10 10l.94 2.06.94-2.06 2.06-.94-2.06-.94-.94-2.06-.94 2.06-2.06.94z\"/><path d=\"M17.41 7.96l-1.37-1.37c-.4-.4-.92-.59-1.43-.59-.52 0-1.04.2-1.43.59L10.3 9.45l-7.72 7.72c-.78.78-.78 2.05 0 2.83L4 21.41c.39.39.9.59 1.41.59.51 0 1.02-.2 1.41-.59l7.78-7.78 2.81-2.81c.8-.78.8-2.07 0-2.86zM5.41 20L4 18.59l7.72-7.72 1.47 1.35L5.41 20z\"/>\n",
              "  </svg>\n",
              "      </button>\n",
              "      \n",
              "  <style>\n",
              "    .colab-df-container {\n",
              "      display:flex;\n",
              "      flex-wrap:wrap;\n",
              "      gap: 12px;\n",
              "    }\n",
              "\n",
              "    .colab-df-convert {\n",
              "      background-color: #E8F0FE;\n",
              "      border: none;\n",
              "      border-radius: 50%;\n",
              "      cursor: pointer;\n",
              "      display: none;\n",
              "      fill: #1967D2;\n",
              "      height: 32px;\n",
              "      padding: 0 0 0 0;\n",
              "      width: 32px;\n",
              "    }\n",
              "\n",
              "    .colab-df-convert:hover {\n",
              "      background-color: #E2EBFA;\n",
              "      box-shadow: 0px 1px 2px rgba(60, 64, 67, 0.3), 0px 1px 3px 1px rgba(60, 64, 67, 0.15);\n",
              "      fill: #174EA6;\n",
              "    }\n",
              "\n",
              "    [theme=dark] .colab-df-convert {\n",
              "      background-color: #3B4455;\n",
              "      fill: #D2E3FC;\n",
              "    }\n",
              "\n",
              "    [theme=dark] .colab-df-convert:hover {\n",
              "      background-color: #434B5C;\n",
              "      box-shadow: 0px 1px 3px 1px rgba(0, 0, 0, 0.15);\n",
              "      filter: drop-shadow(0px 1px 2px rgba(0, 0, 0, 0.3));\n",
              "      fill: #FFFFFF;\n",
              "    }\n",
              "  </style>\n",
              "\n",
              "      <script>\n",
              "        const buttonEl =\n",
              "          document.querySelector('#df-5504035c-be13-468d-9ebb-8cf7202ad526 button.colab-df-convert');\n",
              "        buttonEl.style.display =\n",
              "          google.colab.kernel.accessAllowed ? 'block' : 'none';\n",
              "\n",
              "        async function convertToInteractive(key) {\n",
              "          const element = document.querySelector('#df-5504035c-be13-468d-9ebb-8cf7202ad526');\n",
              "          const dataTable =\n",
              "            await google.colab.kernel.invokeFunction('convertToInteractive',\n",
              "                                                     [key], {});\n",
              "          if (!dataTable) return;\n",
              "\n",
              "          const docLinkHtml = 'Like what you see? Visit the ' +\n",
              "            '<a target=\"_blank\" href=https://colab.research.google.com/notebooks/data_table.ipynb>data table notebook</a>'\n",
              "            + ' to learn more about interactive tables.';\n",
              "          element.innerHTML = '';\n",
              "          dataTable['output_type'] = 'display_data';\n",
              "          await google.colab.output.renderOutput(dataTable, element);\n",
              "          const docLink = document.createElement('div');\n",
              "          docLink.innerHTML = docLinkHtml;\n",
              "          element.appendChild(docLink);\n",
              "        }\n",
              "      </script>\n",
              "    </div>\n",
              "  </div>\n",
              "  "
            ]
          },
          "metadata": {},
          "execution_count": 7
        }
      ]
    },
    {
      "cell_type": "code",
      "source": [
        "df_Train.info()"
      ],
      "metadata": {
        "colab": {
          "base_uri": "https://localhost:8080/"
        },
        "id": "qxbsLdQezm6X",
        "outputId": "4c3931be-aa38-45e8-ab68-f91a6545e0a3"
      },
      "execution_count": 8,
      "outputs": [
        {
          "output_type": "stream",
          "name": "stdout",
          "text": [
            "<class 'pandas.core.frame.DataFrame'>\n",
            "RangeIndex: 12605 entries, 0 to 12604\n",
            "Data columns (total 18 columns):\n",
            " #   Column                             Non-Null Count  Dtype  \n",
            "---  ------                             --------------  -----  \n",
            " 0   case_id                            12605 non-null  int64  \n",
            " 1   Hospital_code                      12605 non-null  int64  \n",
            " 2   Hospital_type_code                 12605 non-null  object \n",
            " 3   City_Code_Hospital                 12605 non-null  int64  \n",
            " 4   Hospital_region_code               12605 non-null  object \n",
            " 5   Available Extra Rooms in Hospital  12605 non-null  int64  \n",
            " 6   Department                         12605 non-null  object \n",
            " 7   Ward_Type                          12604 non-null  object \n",
            " 8   Ward_Facility_Code                 12604 non-null  object \n",
            " 9   Bed Grade                          12602 non-null  float64\n",
            " 10  patientid                          12604 non-null  float64\n",
            " 11  City_Code_Patient                  12464 non-null  float64\n",
            " 12  Type of Admission                  12604 non-null  object \n",
            " 13  Severity of Illness                12604 non-null  object \n",
            " 14  Visitors with Patient              12604 non-null  float64\n",
            " 15  Age                                12604 non-null  object \n",
            " 16  Admission_Deposit                  12604 non-null  float64\n",
            " 17  Stay                               12604 non-null  object \n",
            "dtypes: float64(5), int64(4), object(9)\n",
            "memory usage: 1.7+ MB\n"
          ]
        }
      ]
    },
    {
      "cell_type": "code",
      "source": [
        "df_Train.describe()"
      ],
      "metadata": {
        "colab": {
          "base_uri": "https://localhost:8080/",
          "height": 361
        },
        "id": "8NCRvoo9zwN0",
        "outputId": "585582d6-2476-4a08-9b95-377ac9a6643d"
      },
      "execution_count": 9,
      "outputs": [
        {
          "output_type": "execute_result",
          "data": {
            "text/plain": [
              "            case_id  Hospital_code  City_Code_Hospital  \\\n",
              "count  12605.000000   12605.000000        12605.000000   \n",
              "mean    6303.000000      18.750179            4.768663   \n",
              "std     3638.894406       8.722540            3.217339   \n",
              "min        1.000000       1.000000            1.000000   \n",
              "25%     3152.000000      11.000000            2.000000   \n",
              "50%     6303.000000      21.000000            5.000000   \n",
              "75%     9454.000000      26.000000            7.000000   \n",
              "max    12605.000000      32.000000           13.000000   \n",
              "\n",
              "       Available Extra Rooms in Hospital     Bed Grade      patientid  \\\n",
              "count                       12605.000000  12602.000000   12604.000000   \n",
              "mean                            3.087902      2.654023   66315.630911   \n",
              "std                             1.142657      0.860454   37911.508538   \n",
              "min                             1.000000      1.000000     170.000000   \n",
              "25%                             2.000000      2.000000   33782.000000   \n",
              "50%                             3.000000      3.000000   67186.500000   \n",
              "75%                             4.000000      3.000000   98744.000000   \n",
              "max                            10.000000      4.000000  131536.000000   \n",
              "\n",
              "       City_Code_Patient  Visitors with Patient  Admission_Deposit  \n",
              "count       12464.000000           12604.000000       12604.000000  \n",
              "mean            6.961088               3.297683        4973.377896  \n",
              "std             4.362038               1.827590        1057.410795  \n",
              "min             1.000000               0.000000        1870.000000  \n",
              "25%             4.000000               2.000000        4293.000000  \n",
              "50%             8.000000               3.000000        4845.000000  \n",
              "75%             8.000000               4.000000        5492.250000  \n",
              "max            34.000000              24.000000       10314.000000  "
            ],
            "text/html": [
              "\n",
              "  <div id=\"df-4fde147d-0f10-411f-94dd-dddd55fe24b9\">\n",
              "    <div class=\"colab-df-container\">\n",
              "      <div>\n",
              "<style scoped>\n",
              "    .dataframe tbody tr th:only-of-type {\n",
              "        vertical-align: middle;\n",
              "    }\n",
              "\n",
              "    .dataframe tbody tr th {\n",
              "        vertical-align: top;\n",
              "    }\n",
              "\n",
              "    .dataframe thead th {\n",
              "        text-align: right;\n",
              "    }\n",
              "</style>\n",
              "<table border=\"1\" class=\"dataframe\">\n",
              "  <thead>\n",
              "    <tr style=\"text-align: right;\">\n",
              "      <th></th>\n",
              "      <th>case_id</th>\n",
              "      <th>Hospital_code</th>\n",
              "      <th>City_Code_Hospital</th>\n",
              "      <th>Available Extra Rooms in Hospital</th>\n",
              "      <th>Bed Grade</th>\n",
              "      <th>patientid</th>\n",
              "      <th>City_Code_Patient</th>\n",
              "      <th>Visitors with Patient</th>\n",
              "      <th>Admission_Deposit</th>\n",
              "    </tr>\n",
              "  </thead>\n",
              "  <tbody>\n",
              "    <tr>\n",
              "      <th>count</th>\n",
              "      <td>12605.000000</td>\n",
              "      <td>12605.000000</td>\n",
              "      <td>12605.000000</td>\n",
              "      <td>12605.000000</td>\n",
              "      <td>12602.000000</td>\n",
              "      <td>12604.000000</td>\n",
              "      <td>12464.000000</td>\n",
              "      <td>12604.000000</td>\n",
              "      <td>12604.000000</td>\n",
              "    </tr>\n",
              "    <tr>\n",
              "      <th>mean</th>\n",
              "      <td>6303.000000</td>\n",
              "      <td>18.750179</td>\n",
              "      <td>4.768663</td>\n",
              "      <td>3.087902</td>\n",
              "      <td>2.654023</td>\n",
              "      <td>66315.630911</td>\n",
              "      <td>6.961088</td>\n",
              "      <td>3.297683</td>\n",
              "      <td>4973.377896</td>\n",
              "    </tr>\n",
              "    <tr>\n",
              "      <th>std</th>\n",
              "      <td>3638.894406</td>\n",
              "      <td>8.722540</td>\n",
              "      <td>3.217339</td>\n",
              "      <td>1.142657</td>\n",
              "      <td>0.860454</td>\n",
              "      <td>37911.508538</td>\n",
              "      <td>4.362038</td>\n",
              "      <td>1.827590</td>\n",
              "      <td>1057.410795</td>\n",
              "    </tr>\n",
              "    <tr>\n",
              "      <th>min</th>\n",
              "      <td>1.000000</td>\n",
              "      <td>1.000000</td>\n",
              "      <td>1.000000</td>\n",
              "      <td>1.000000</td>\n",
              "      <td>1.000000</td>\n",
              "      <td>170.000000</td>\n",
              "      <td>1.000000</td>\n",
              "      <td>0.000000</td>\n",
              "      <td>1870.000000</td>\n",
              "    </tr>\n",
              "    <tr>\n",
              "      <th>25%</th>\n",
              "      <td>3152.000000</td>\n",
              "      <td>11.000000</td>\n",
              "      <td>2.000000</td>\n",
              "      <td>2.000000</td>\n",
              "      <td>2.000000</td>\n",
              "      <td>33782.000000</td>\n",
              "      <td>4.000000</td>\n",
              "      <td>2.000000</td>\n",
              "      <td>4293.000000</td>\n",
              "    </tr>\n",
              "    <tr>\n",
              "      <th>50%</th>\n",
              "      <td>6303.000000</td>\n",
              "      <td>21.000000</td>\n",
              "      <td>5.000000</td>\n",
              "      <td>3.000000</td>\n",
              "      <td>3.000000</td>\n",
              "      <td>67186.500000</td>\n",
              "      <td>8.000000</td>\n",
              "      <td>3.000000</td>\n",
              "      <td>4845.000000</td>\n",
              "    </tr>\n",
              "    <tr>\n",
              "      <th>75%</th>\n",
              "      <td>9454.000000</td>\n",
              "      <td>26.000000</td>\n",
              "      <td>7.000000</td>\n",
              "      <td>4.000000</td>\n",
              "      <td>3.000000</td>\n",
              "      <td>98744.000000</td>\n",
              "      <td>8.000000</td>\n",
              "      <td>4.000000</td>\n",
              "      <td>5492.250000</td>\n",
              "    </tr>\n",
              "    <tr>\n",
              "      <th>max</th>\n",
              "      <td>12605.000000</td>\n",
              "      <td>32.000000</td>\n",
              "      <td>13.000000</td>\n",
              "      <td>10.000000</td>\n",
              "      <td>4.000000</td>\n",
              "      <td>131536.000000</td>\n",
              "      <td>34.000000</td>\n",
              "      <td>24.000000</td>\n",
              "      <td>10314.000000</td>\n",
              "    </tr>\n",
              "  </tbody>\n",
              "</table>\n",
              "</div>\n",
              "      <button class=\"colab-df-convert\" onclick=\"convertToInteractive('df-4fde147d-0f10-411f-94dd-dddd55fe24b9')\"\n",
              "              title=\"Convert this dataframe to an interactive table.\"\n",
              "              style=\"display:none;\">\n",
              "        \n",
              "  <svg xmlns=\"http://www.w3.org/2000/svg\" height=\"24px\"viewBox=\"0 0 24 24\"\n",
              "       width=\"24px\">\n",
              "    <path d=\"M0 0h24v24H0V0z\" fill=\"none\"/>\n",
              "    <path d=\"M18.56 5.44l.94 2.06.94-2.06 2.06-.94-2.06-.94-.94-2.06-.94 2.06-2.06.94zm-11 1L8.5 8.5l.94-2.06 2.06-.94-2.06-.94L8.5 2.5l-.94 2.06-2.06.94zm10 10l.94 2.06.94-2.06 2.06-.94-2.06-.94-.94-2.06-.94 2.06-2.06.94z\"/><path d=\"M17.41 7.96l-1.37-1.37c-.4-.4-.92-.59-1.43-.59-.52 0-1.04.2-1.43.59L10.3 9.45l-7.72 7.72c-.78.78-.78 2.05 0 2.83L4 21.41c.39.39.9.59 1.41.59.51 0 1.02-.2 1.41-.59l7.78-7.78 2.81-2.81c.8-.78.8-2.07 0-2.86zM5.41 20L4 18.59l7.72-7.72 1.47 1.35L5.41 20z\"/>\n",
              "  </svg>\n",
              "      </button>\n",
              "      \n",
              "  <style>\n",
              "    .colab-df-container {\n",
              "      display:flex;\n",
              "      flex-wrap:wrap;\n",
              "      gap: 12px;\n",
              "    }\n",
              "\n",
              "    .colab-df-convert {\n",
              "      background-color: #E8F0FE;\n",
              "      border: none;\n",
              "      border-radius: 50%;\n",
              "      cursor: pointer;\n",
              "      display: none;\n",
              "      fill: #1967D2;\n",
              "      height: 32px;\n",
              "      padding: 0 0 0 0;\n",
              "      width: 32px;\n",
              "    }\n",
              "\n",
              "    .colab-df-convert:hover {\n",
              "      background-color: #E2EBFA;\n",
              "      box-shadow: 0px 1px 2px rgba(60, 64, 67, 0.3), 0px 1px 3px 1px rgba(60, 64, 67, 0.15);\n",
              "      fill: #174EA6;\n",
              "    }\n",
              "\n",
              "    [theme=dark] .colab-df-convert {\n",
              "      background-color: #3B4455;\n",
              "      fill: #D2E3FC;\n",
              "    }\n",
              "\n",
              "    [theme=dark] .colab-df-convert:hover {\n",
              "      background-color: #434B5C;\n",
              "      box-shadow: 0px 1px 3px 1px rgba(0, 0, 0, 0.15);\n",
              "      filter: drop-shadow(0px 1px 2px rgba(0, 0, 0, 0.3));\n",
              "      fill: #FFFFFF;\n",
              "    }\n",
              "  </style>\n",
              "\n",
              "      <script>\n",
              "        const buttonEl =\n",
              "          document.querySelector('#df-4fde147d-0f10-411f-94dd-dddd55fe24b9 button.colab-df-convert');\n",
              "        buttonEl.style.display =\n",
              "          google.colab.kernel.accessAllowed ? 'block' : 'none';\n",
              "\n",
              "        async function convertToInteractive(key) {\n",
              "          const element = document.querySelector('#df-4fde147d-0f10-411f-94dd-dddd55fe24b9');\n",
              "          const dataTable =\n",
              "            await google.colab.kernel.invokeFunction('convertToInteractive',\n",
              "                                                     [key], {});\n",
              "          if (!dataTable) return;\n",
              "\n",
              "          const docLinkHtml = 'Like what you see? Visit the ' +\n",
              "            '<a target=\"_blank\" href=https://colab.research.google.com/notebooks/data_table.ipynb>data table notebook</a>'\n",
              "            + ' to learn more about interactive tables.';\n",
              "          element.innerHTML = '';\n",
              "          dataTable['output_type'] = 'display_data';\n",
              "          await google.colab.output.renderOutput(dataTable, element);\n",
              "          const docLink = document.createElement('div');\n",
              "          docLink.innerHTML = docLinkHtml;\n",
              "          element.appendChild(docLink);\n",
              "        }\n",
              "      </script>\n",
              "    </div>\n",
              "  </div>\n",
              "  "
            ]
          },
          "metadata": {},
          "execution_count": 9
        }
      ]
    },
    {
      "cell_type": "code",
      "source": [
        "df_Train.columns"
      ],
      "metadata": {
        "colab": {
          "base_uri": "https://localhost:8080/"
        },
        "id": "SlCC7h42z2N5",
        "outputId": "c347a2c0-97a5-426b-cd82-ef299181dd53"
      },
      "execution_count": 10,
      "outputs": [
        {
          "output_type": "execute_result",
          "data": {
            "text/plain": [
              "Index(['case_id', 'Hospital_code', 'Hospital_type_code', 'City_Code_Hospital',\n",
              "       'Hospital_region_code', 'Available Extra Rooms in Hospital',\n",
              "       'Department', 'Ward_Type', 'Ward_Facility_Code', 'Bed Grade',\n",
              "       'patientid', 'City_Code_Patient', 'Type of Admission',\n",
              "       'Severity of Illness', 'Visitors with Patient', 'Age',\n",
              "       'Admission_Deposit', 'Stay'],\n",
              "      dtype='object')"
            ]
          },
          "metadata": {},
          "execution_count": 10
        }
      ]
    },
    {
      "cell_type": "code",
      "source": [
        "print('Shape of Train Data: ', df_Train.shape)\n",
        "print('Shape of Test Data: ', df_Test.shape)"
      ],
      "metadata": {
        "colab": {
          "base_uri": "https://localhost:8080/"
        },
        "id": "iJuzZczWz7BS",
        "outputId": "3b6ae7ae-19be-4cc7-cc0e-3c7af1743423"
      },
      "execution_count": 11,
      "outputs": [
        {
          "output_type": "stream",
          "name": "stdout",
          "text": [
            "Shape of Train Data:  (12605, 18)\n",
            "Shape of Test Data:  (26603, 17)\n"
          ]
        }
      ]
    },
    {
      "cell_type": "code",
      "source": [
        "print('Null values in Train Data: \\n', df_Train.isnull().sum())"
      ],
      "metadata": {
        "colab": {
          "base_uri": "https://localhost:8080/"
        },
        "id": "Dxtlv5jQz_tA",
        "outputId": "12e28c27-8241-40ac-98a8-55cbe4fcbee7"
      },
      "execution_count": 12,
      "outputs": [
        {
          "output_type": "stream",
          "name": "stdout",
          "text": [
            "Null values in Train Data: \n",
            " case_id                                0\n",
            "Hospital_code                          0\n",
            "Hospital_type_code                     0\n",
            "City_Code_Hospital                     0\n",
            "Hospital_region_code                   0\n",
            "Available Extra Rooms in Hospital      0\n",
            "Department                             0\n",
            "Ward_Type                              1\n",
            "Ward_Facility_Code                     1\n",
            "Bed Grade                              3\n",
            "patientid                              1\n",
            "City_Code_Patient                    141\n",
            "Type of Admission                      1\n",
            "Severity of Illness                    1\n",
            "Visitors with Patient                  1\n",
            "Age                                    1\n",
            "Admission_Deposit                      1\n",
            "Stay                                   1\n",
            "dtype: int64\n"
          ]
        }
      ]
    },
    {
      "cell_type": "code",
      "source": [
        "print('Null Values in Test Data: \\n', df_Test.isnull().sum())"
      ],
      "metadata": {
        "colab": {
          "base_uri": "https://localhost:8080/"
        },
        "id": "xRuX84zN0HuP",
        "outputId": "1ade71ef-42b2-462b-dd6a-e8df714916d2"
      },
      "execution_count": 13,
      "outputs": [
        {
          "output_type": "stream",
          "name": "stdout",
          "text": [
            "Null Values in Test Data: \n",
            " case_id                                0\n",
            "Hospital_code                          1\n",
            "Hospital_type_code                     1\n",
            "City_Code_Hospital                     1\n",
            "Hospital_region_code                   1\n",
            "Available Extra Rooms in Hospital      1\n",
            "Department                             1\n",
            "Ward_Type                              1\n",
            "Ward_Facility_Code                     1\n",
            "Bed Grade                              6\n",
            "patientid                              1\n",
            "City_Code_Patient                    268\n",
            "Type of Admission                      1\n",
            "Severity of Illness                    1\n",
            "Visitors with Patient                  1\n",
            "Age                                    1\n",
            "Admission_Deposit                      1\n",
            "dtype: int64\n"
          ]
        }
      ]
    },
    {
      "cell_type": "code",
      "source": [
        "print('Total Count of the Prediction Output Column Stay Variable: \\n', df_Train['Stay'].value_counts())"
      ],
      "metadata": {
        "colab": {
          "base_uri": "https://localhost:8080/"
        },
        "id": "2CgE1nIm0Z63",
        "outputId": "03aaac28-f442-463c-ae10-7a3482f51dcb"
      },
      "execution_count": 14,
      "outputs": [
        {
          "output_type": "stream",
          "name": "stdout",
          "text": [
            "Total Count of the Prediction Output Column Stay Variable: \n",
            " 21-30                 3744\n",
            "11-20                 2643\n",
            "31-40                 2204\n",
            "51-60                 1549\n",
            "0-10                   639\n",
            "71-80                  526\n",
            "41-50                  494\n",
            "More than 100 Days     310\n",
            "81-90                  245\n",
            "91-100                 129\n",
            "61-70                  121\n",
            "Name: Stay, dtype: int64\n"
          ]
        }
      ]
    },
    {
      "cell_type": "code",
      "source": [
        "df_Train['Stay'].value_counts()"
      ],
      "metadata": {
        "colab": {
          "base_uri": "https://localhost:8080/"
        },
        "id": "8WmtBa5_0d2r",
        "outputId": "ca514f49-4d78-4d8b-f5d3-fff292133072"
      },
      "execution_count": 15,
      "outputs": [
        {
          "output_type": "execute_result",
          "data": {
            "text/plain": [
              "21-30                 3744\n",
              "11-20                 2643\n",
              "31-40                 2204\n",
              "51-60                 1549\n",
              "0-10                   639\n",
              "71-80                  526\n",
              "41-50                  494\n",
              "More than 100 Days     310\n",
              "81-90                  245\n",
              "91-100                 129\n",
              "61-70                  121\n",
              "Name: Stay, dtype: int64"
            ]
          },
          "metadata": {},
          "execution_count": 15
        }
      ]
    },
    {
      "cell_type": "code",
      "source": [
        "sns.countplot(x='Stay',data=df_Train)\n",
        "plt.xlabel(\"Stay\")\n",
        "plt.ylabel(\"Count\")\n",
        "plt.title(\"Stay Duration\")\n",
        "plt.show()"
      ],
      "metadata": {
        "colab": {
          "base_uri": "https://localhost:8080/",
          "height": 472
        },
        "id": "uhzXruoh0lk4",
        "outputId": "36b9fb65-03bd-4184-e010-5002a57f48f1"
      },
      "execution_count": 16,
      "outputs": [
        {
          "output_type": "display_data",
          "data": {
            "text/plain": [
              "<Figure size 640x480 with 1 Axes>"
            ],
            "image/png": "[encoded data removed]"
          },
          "metadata": {}
        }
      ]
    },
    {
      "cell_type": "code",
      "source": [
        "df_Train['Hospital_code'].value_counts()"
      ],
      "metadata": {
        "colab": {
          "base_uri": "https://localhost:8080/"
        },
        "id": "pHF_Yz3g0qXF",
        "outputId": "71bb0575-4551-4fe7-e80e-950310d50ed8"
      },
      "execution_count": 17,
      "outputs": [
        {
          "output_type": "execute_result",
          "data": {
            "text/plain": [
              "26    1532\n",
              "23     834\n",
              "28     787\n",
              "14     732\n",
              "19     692\n",
              "27     622\n",
              "6      600\n",
              "11     569\n",
              "12     513\n",
              "32     501\n",
              "10     500\n",
              "9      483\n",
              "25     471\n",
              "29     426\n",
              "15     351\n",
              "21     324\n",
              "24     307\n",
              "1      305\n",
              "17     252\n",
              "2      231\n",
              "3      224\n",
              "13     212\n",
              "30     201\n",
              "31     169\n",
              "22     168\n",
              "8      142\n",
              "5      122\n",
              "18     108\n",
              "16      95\n",
              "20      55\n",
              "4       49\n",
              "7       28\n",
              "Name: Hospital_code, dtype: int64"
            ]
          },
          "metadata": {},
          "execution_count": 17
        }
      ]
    },
    {
      "cell_type": "code",
      "source": [
        "sns.countplot(x='Hospital_code',data=df_Train)\n",
        "plt.xlabel(\"Hospital Code\")\n",
        "plt.ylabel(\"Count\")\n",
        "plt.title(\"Hospital Code Count\")\n",
        "plt.show()"
      ],
      "metadata": {
        "colab": {
          "base_uri": "https://localhost:8080/",
          "height": 472
        },
        "id": "EPkzNSnY01hW",
        "outputId": "cba04d75-0f36-4832-96a7-56e4ebc624bc"
      },
      "execution_count": 18,
      "outputs": [
        {
          "output_type": "display_data",
          "data": {
            "text/plain": [
              "<Figure size 640x480 with 1 Axes>"
            ],
            "image/png": "[encoded data removed]"
          },
          "metadata": {}
        }
      ]
    },
    {
      "cell_type": "code",
      "source": [
        "df_Train['Hospital_type_code'].value_counts()"
      ],
      "metadata": {
        "colab": {
          "base_uri": "https://localhost:8080/"
        },
        "id": "BEMwQJlC07hK",
        "outputId": "6f6bd710-a058-4087-e179-6c076051a7d1"
      },
      "execution_count": 19,
      "outputs": [
        {
          "output_type": "execute_result",
          "data": {
            "text/plain": [
              "a    5137\n",
              "b    2943\n",
              "c    1737\n",
              "e    1223\n",
              "d     896\n",
              "f     501\n",
              "g     168\n",
              "Name: Hospital_type_code, dtype: int64"
            ]
          },
          "metadata": {},
          "execution_count": 19
        }
      ]
    },
    {
      "cell_type": "code",
      "source": [
        "sns.countplot(x='Hospital_type_code',data=df_Train)\n",
        "plt.xlabel(\"Hospital Type Code\")\n",
        "plt.ylabel(\"Count\")\n",
        "plt.title(\"Hospital Type Code Count\")\n",
        "plt.show()"
      ],
      "metadata": {
        "colab": {
          "base_uri": "https://localhost:8080/",
          "height": 472
        },
        "id": "sMvXiEDv1FuR",
        "outputId": "6e326d60-bc61-442a-82e8-f2034d869e14"
      },
      "execution_count": 20,
      "outputs": [
        {
          "output_type": "display_data",
          "data": {
            "text/plain": [
              "<Figure size 640x480 with 1 Axes>"
            ],
            "image/png": "[encoded data removed]"
          },
          "metadata": {}
        }
      ]
    },
    {
      "cell_type": "code",
      "source": [
        "df_Train['City_Code_Hospital'].value_counts()"
      ],
      "metadata": {
        "colab": {
          "base_uri": "https://localhost:8080/"
        },
        "id": "t7ZaqZz_1MIq",
        "outputId": "e6c51c85-3009-44d4-a0da-243594a4ab4b"
      },
      "execution_count": 21,
      "outputs": [
        {
          "output_type": "execute_result",
          "data": {
            "text/plain": [
              "1     2384\n",
              "2     2156\n",
              "6     1434\n",
              "7     1314\n",
              "5     1277\n",
              "9     1182\n",
              "3     1155\n",
              "11     787\n",
              "4      503\n",
              "10     305\n",
              "13     108\n",
              "Name: City_Code_Hospital, dtype: int64"
            ]
          },
          "metadata": {},
          "execution_count": 21
        }
      ]
    },
    {
      "cell_type": "code",
      "source": [
        "sns.countplot(x='City_Code_Hospital',data=df_Train)\n",
        "plt.xlabel(\"City Code Hospital\")\n",
        "plt.ylabel(\"Count\")\n",
        "plt.title(\"City Code Hospital Count\")\n",
        "plt.show()"
      ],
      "metadata": {
        "colab": {
          "base_uri": "https://localhost:8080/",
          "height": 472
        },
        "id": "r79VzKil1QRL",
        "outputId": "09a10199-b613-4e3b-f1f8-fc414cf82e4e"
      },
      "execution_count": 22,
      "outputs": [
        {
          "output_type": "display_data",
          "data": {
            "text/plain": [
              "<Figure size 640x480 with 1 Axes>"
            ],
            "image/png": "[encoded data removed]"
          },
          "metadata": {}
        }
      ]
    },
    {
      "cell_type": "code",
      "source": [
        "\n",
        "df_Train['Hospital_region_code'].value_counts()"
      ],
      "metadata": {
        "colab": {
          "base_uri": "https://localhost:8080/"
        },
        "id": "okagqdIJ1QYH",
        "outputId": "a797af41-5360-46e7-9d70-6c2bd42d5841"
      },
      "execution_count": 23,
      "outputs": [
        {
          "output_type": "execute_result",
          "data": {
            "text/plain": [
              "X    5108\n",
              "Y    5065\n",
              "Z    2432\n",
              "Name: Hospital_region_code, dtype: int64"
            ]
          },
          "metadata": {},
          "execution_count": 23
        }
      ]
    },
    {
      "cell_type": "code",
      "source": [
        "sns.countplot(x='Hospital_region_code',data=df_Train)\n",
        "plt.xlabel(\"Hospital Region Code\")\n",
        "plt.ylabel(\"Count\")\n",
        "plt.title(\"Hospital Region Code Count\")\n",
        "plt.show()\n"
      ],
      "metadata": {
        "colab": {
          "base_uri": "https://localhost:8080/",
          "height": 472
        },
        "id": "GlvZruvZ1oR3",
        "outputId": "f78830d7-86f7-4d8c-9a48-b598421aa99c"
      },
      "execution_count": 24,
      "outputs": [
        {
          "output_type": "display_data",
          "data": {
            "text/plain": [
              "<Figure size 640x480 with 1 Axes>"
            ],
            "image/png": "[encoded data removed]"
          },
          "metadata": {}
        }
      ]
    },
    {
      "cell_type": "code",
      "source": [
        "df_Train['Available Extra Rooms in Hospital'].value_counts()"
      ],
      "metadata": {
        "colab": {
          "base_uri": "https://localhost:8080/"
        },
        "id": "JKf4B6XL19oI",
        "outputId": "040504dc-93f2-42f5-e6f1-63802faa73b2"
      },
      "execution_count": 25,
      "outputs": [
        {
          "output_type": "execute_result",
          "data": {
            "text/plain": [
              "2     4448\n",
              "3     3598\n",
              "4     3296\n",
              "5      627\n",
              "6      260\n",
              "1      224\n",
              "7      103\n",
              "8       35\n",
              "9       11\n",
              "10       3\n",
              "Name: Available Extra Rooms in Hospital, dtype: int64"
            ]
          },
          "metadata": {},
          "execution_count": 25
        }
      ]
    },
    {
      "cell_type": "code",
      "source": [
        "sns.countplot(x='Available Extra Rooms in Hospital',data=df_Train)\n",
        "plt.xlabel(\"Available Extra Rooms in Hospital\")\n",
        "plt.ylabel(\"Count\")\n",
        "plt.title(\"Available Extra Rooms in Hospital Count\")\n",
        "plt.show()"
      ],
      "metadata": {
        "colab": {
          "base_uri": "https://localhost:8080/",
          "height": 472
        },
        "id": "-AkFOxES2B0f",
        "outputId": "ed348b64-178b-43f8-fd54-dfb227e0d6e3"
      },
      "execution_count": 26,
      "outputs": [
        {
          "output_type": "display_data",
          "data": {
            "text/plain": [
              "<Figure size 640x480 with 1 Axes>"
            ],
            "image/png": "[encoded data removed]"
          },
          "metadata": {}
        }
      ]
    },
    {
      "cell_type": "code",
      "source": [
        "df_Train['Department'].value_counts()"
      ],
      "metadata": {
        "colab": {
          "base_uri": "https://localhost:8080/"
        },
        "id": "IOUsCGmZ2GZS",
        "outputId": "83196ea6-fe71-40b7-e4fc-14f55dc94035"
      },
      "execution_count": 27,
      "outputs": [
        {
          "output_type": "execute_result",
          "data": {
            "text/plain": [
              "gynecology            9500\n",
              "anesthesia            1452\n",
              "radiotherapy          1226\n",
              "TB & Chest disease     379\n",
              "surgery                 48\n",
              "Name: Department, dtype: int64"
            ]
          },
          "metadata": {},
          "execution_count": 27
        }
      ]
    },
    {
      "cell_type": "code",
      "source": [
        "sns.countplot(x='Department',data=df_Train)\n",
        "plt.xlabel(\"Department\")\n",
        "plt.ylabel(\"Count\")\n",
        "plt.title(\"Department Count\")\n",
        "plt.show()"
      ],
      "metadata": {
        "colab": {
          "base_uri": "https://localhost:8080/",
          "height": 472
        },
        "id": "UpuX_By42l2s",
        "outputId": "f8f09dee-f1f4-492c-ec55-a1c21f297953"
      },
      "execution_count": 28,
      "outputs": [
        {
          "output_type": "display_data",
          "data": {
            "text/plain": [
              "<Figure size 640x480 with 1 Axes>"
            ],
            "image/png": "[encoded data removed]"
          },
          "metadata": {}
        }
      ]
    },
    {
      "cell_type": "code",
      "source": [
        "df_Train['Ward_Type'].value_counts()"
      ],
      "metadata": {
        "colab": {
          "base_uri": "https://localhost:8080/"
        },
        "id": "tbbpIsa93O7A",
        "outputId": "a1f1c630-46fe-4d92-d2f1-70f4f7f3c997"
      },
      "execution_count": 29,
      "outputs": [
        {
          "output_type": "execute_result",
          "data": {
            "text/plain": [
              "R    5219\n",
              "Q    3915\n",
              "S    3172\n",
              "P     213\n",
              "T      85\n",
              "Name: Ward_Type, dtype: int64"
            ]
          },
          "metadata": {},
          "execution_count": 29
        }
      ]
    },
    {
      "cell_type": "code",
      "source": [
        "sns.countplot(x='Ward_Type',data=df_Train)\n",
        "plt.xlabel(\"Ward Type\")\n",
        "plt.ylabel(\"Count\")\n",
        "plt.title(\"Ward Type Count\")\n",
        "plt.show()"
      ],
      "metadata": {
        "colab": {
          "base_uri": "https://localhost:8080/",
          "height": 472
        },
        "id": "FRwDBERb4RXa",
        "outputId": "e1c24c0e-4821-443b-9159-b55bdc3e117a"
      },
      "execution_count": 30,
      "outputs": [
        {
          "output_type": "display_data",
          "data": {
            "text/plain": [
              "<Figure size 640x480 with 1 Axes>"
            ],
            "image/png": "[encoded data removed]"
          },
          "metadata": {}
        }
      ]
    },
    {
      "cell_type": "code",
      "source": [
        "df_Train['Ward_Facility_Code'].value_counts()"
      ],
      "metadata": {
        "colab": {
          "base_uri": "https://localhost:8080/"
        },
        "id": "tvdAPC8c4aQj",
        "outputId": "e805ad34-958c-4373-ab0f-121597f7de56"
      },
      "execution_count": 31,
      "outputs": [
        {
          "output_type": "execute_result",
          "data": {
            "text/plain": [
              "F    4142\n",
              "E    2384\n",
              "D    2156\n",
              "B    1595\n",
              "C    1314\n",
              "A    1013\n",
              "Name: Ward_Facility_Code, dtype: int64"
            ]
          },
          "metadata": {},
          "execution_count": 31
        }
      ]
    },
    {
      "cell_type": "code",
      "source": [
        "sns.countplot(x='Ward_Facility_Code',data=df_Train)\n",
        "plt.xlabel(\"Ward Facility Code\")\n",
        "plt.ylabel(\"Count\")\n",
        "plt.title(\"Ward Facility Code Count\")\n",
        "plt.show()"
      ],
      "metadata": {
        "colab": {
          "base_uri": "https://localhost:8080/",
          "height": 472
        },
        "id": "XU0xZWog4dwc",
        "outputId": "24a8fd12-65bc-448d-893b-ba169ef7fcf8"
      },
      "execution_count": 32,
      "outputs": [
        {
          "output_type": "display_data",
          "data": {
            "text/plain": [
              "<Figure size 640x480 with 1 Axes>"
            ],
            "image/png": "[encoded data removed]"
          },
          "metadata": {}
        }
      ]
    },
    {
      "cell_type": "code",
      "source": [
        "df_Train['Bed Grade'].value_counts()"
      ],
      "metadata": {
        "colab": {
          "base_uri": "https://localhost:8080/"
        },
        "id": "2wjCZcyN4nf1",
        "outputId": "c69b38e0-c74d-49be-f0af-301380afbca3"
      },
      "execution_count": 33,
      "outputs": [
        {
          "output_type": "execute_result",
          "data": {
            "text/plain": [
              "2.0    4860\n",
              "3.0    4503\n",
              "4.0    2326\n",
              "1.0     913\n",
              "Name: Bed Grade, dtype: int64"
            ]
          },
          "metadata": {},
          "execution_count": 33
        }
      ]
    },
    {
      "cell_type": "code",
      "source": [
        "sns.countplot(x='Bed Grade',data=df_Train)\n",
        "plt.xlabel(\"Bed Grade\")\n",
        "plt.ylabel(\"Count\")\n",
        "plt.title(\"Bed Grade Count\")\n",
        "plt.show()"
      ],
      "metadata": {
        "colab": {
          "base_uri": "https://localhost:8080/",
          "height": 472
        },
        "id": "nlzq8tG14n4X",
        "outputId": "958c956a-760a-46bf-a759-17e7d591667a"
      },
      "execution_count": 34,
      "outputs": [
        {
          "output_type": "display_data",
          "data": {
            "text/plain": [
              "<Figure size 640x480 with 1 Axes>"
            ],
            "image/png": "[encoded data removed]"
          },
          "metadata": {}
        }
      ]
    },
    {
      "cell_type": "code",
      "source": [
        "df_Train['patientid'].value_counts()"
      ],
      "metadata": {
        "colab": {
          "base_uri": "https://localhost:8080/"
        },
        "id": "rvUJPw474qei",
        "outputId": "0836d796-6deb-45d5-e25a-277d414580a0"
      },
      "execution_count": 35,
      "outputs": [
        {
          "output_type": "execute_result",
          "data": {
            "text/plain": [
              "126596.0    29\n",
              "38785.0     18\n",
              "42669.0     18\n",
              "10224.0     17\n",
              "88332.0     16\n",
              "            ..\n",
              "104460.0     1\n",
              "15246.0      1\n",
              "75296.0      1\n",
              "17169.0      1\n",
              "125618.0     1\n",
              "Name: patientid, Length: 2426, dtype: int64"
            ]
          },
          "metadata": {},
          "execution_count": 35
        }
      ]
    },
    {
      "cell_type": "code",
      "source": [
        "df_Train['patientid'].nunique()\n"
      ],
      "metadata": {
        "colab": {
          "base_uri": "https://localhost:8080/"
        },
        "id": "h_71lVJE4tWG",
        "outputId": "f3502246-3da1-4d16-e9c8-8c8387f54c89"
      },
      "execution_count": 36,
      "outputs": [
        {
          "output_type": "execute_result",
          "data": {
            "text/plain": [
              "2426"
            ]
          },
          "metadata": {},
          "execution_count": 36
        }
      ]
    },
    {
      "cell_type": "code",
      "source": [
        "df_Train['patientid'].unique()"
      ],
      "metadata": {
        "colab": {
          "base_uri": "https://localhost:8080/"
        },
        "id": "DUpXuRAf4w2x",
        "outputId": "1363236a-dc8e-467c-dbb2-5d8eb748613e"
      },
      "execution_count": 37,
      "outputs": [
        {
          "output_type": "execute_result",
          "data": {
            "text/plain": [
              "array([ 31397.,  63418.,   8088., ...,  77153., 105783.,     nan])"
            ]
          },
          "metadata": {},
          "execution_count": 37
        }
      ]
    },
    {
      "cell_type": "code",
      "source": [
        "df_Train['City_Code_Patient'].value_counts()"
      ],
      "metadata": {
        "colab": {
          "base_uri": "https://localhost:8080/"
        },
        "id": "Vyr1xGQR5y1O",
        "outputId": "b718621b-e6a3-49cb-9f96-e5c23c55056b"
      },
      "execution_count": 38,
      "outputs": [
        {
          "output_type": "execute_result",
          "data": {
            "text/plain": [
              "8.0     5291\n",
              "1.0     1299\n",
              "2.0     1211\n",
              "5.0     1037\n",
              "4.0      707\n",
              "7.0      705\n",
              "9.0      608\n",
              "15.0     351\n",
              "6.0      186\n",
              "10.0     183\n",
              "12.0     157\n",
              "3.0      117\n",
              "14.0     116\n",
              "23.0      89\n",
              "20.0      67\n",
              "11.0      51\n",
              "13.0      51\n",
              "26.0      48\n",
              "27.0      47\n",
              "21.0      34\n",
              "16.0      23\n",
              "18.0      20\n",
              "25.0      18\n",
              "24.0      16\n",
              "28.0      10\n",
              "22.0      10\n",
              "19.0       5\n",
              "31.0       3\n",
              "34.0       2\n",
              "32.0       2\n",
              "Name: City_Code_Patient, dtype: int64"
            ]
          },
          "metadata": {},
          "execution_count": 38
        }
      ]
    },
    {
      "cell_type": "code",
      "source": [
        "sns.countplot(x='City_Code_Patient',data=df_Train)\n",
        "plt.xlabel(\"City Code Patient\")\n",
        "plt.ylabel(\"Count\")\n",
        "plt.title(\"City Code Patient Count\")\n",
        "plt.show()"
      ],
      "metadata": {
        "colab": {
          "base_uri": "https://localhost:8080/",
          "height": 472
        },
        "id": "aC_oD_--50dP",
        "outputId": "56acb47f-36e4-4975-a03e-b4e63319d38c"
      },
      "execution_count": 39,
      "outputs": [
        {
          "output_type": "display_data",
          "data": {
            "text/plain": [
              "<Figure size 640x480 with 1 Axes>"
            ],
            "image/png": "[encoded data removed]"
          },
          "metadata": {}
        }
      ]
    },
    {
      "cell_type": "code",
      "source": [
        "df_Train['Type of Admission'].value_counts()"
      ],
      "metadata": {
        "colab": {
          "base_uri": "https://localhost:8080/"
        },
        "id": "xEQpWh9-53o-",
        "outputId": "7e3ec2c9-014e-4c04-b827-580ed7c9fb4a"
      },
      "execution_count": 40,
      "outputs": [
        {
          "output_type": "execute_result",
          "data": {
            "text/plain": [
              "Trauma       7125\n",
              "Emergency    4153\n",
              "Urgent       1326\n",
              "Name: Type of Admission, dtype: int64"
            ]
          },
          "metadata": {},
          "execution_count": 40
        }
      ]
    },
    {
      "cell_type": "code",
      "source": [
        "sns.countplot(x='Type of Admission',data=df_Train)\n",
        "plt.xlabel(\"Type of Admission\")\n",
        "plt.ylabel(\"Count\")\n",
        "plt.title(\"Type of Admission Count\")\n",
        "plt.show()"
      ],
      "metadata": {
        "colab": {
          "base_uri": "https://localhost:8080/",
          "height": 472
        },
        "id": "dsQoq_xZ56e6",
        "outputId": "14c98ec8-b602-4707-edff-3e13e197001c"
      },
      "execution_count": 41,
      "outputs": [
        {
          "output_type": "display_data",
          "data": {
            "text/plain": [
              "<Figure size 640x480 with 1 Axes>"
            ],
            "image/png": "[encoded data removed]"
          },
          "metadata": {}
        }
      ]
    },
    {
      "cell_type": "code",
      "source": [
        "df_Train['Severity of Illness'].value_counts()"
      ],
      "metadata": {
        "colab": {
          "base_uri": "https://localhost:8080/"
        },
        "id": "OZ3Ljtxa6Ira",
        "outputId": "34e95abd-6ad8-4cea-9ee8-6149f94edf2b"
      },
      "execution_count": 42,
      "outputs": [
        {
          "output_type": "execute_result",
          "data": {
            "text/plain": [
              "Moderate    7218\n",
              "Extreme     3070\n",
              "Minor       2316\n",
              "Name: Severity of Illness, dtype: int64"
            ]
          },
          "metadata": {},
          "execution_count": 42
        }
      ]
    },
    {
      "cell_type": "code",
      "source": [
        "sns.countplot(x='Severity of Illness',data=df_Train)\n",
        "plt.xlabel(\"Severity of Illness\")\n",
        "plt.ylabel(\"Count\")\n",
        "plt.title(\"Severity of Illness Count\")\n",
        "plt.show()"
      ],
      "metadata": {
        "colab": {
          "base_uri": "https://localhost:8080/",
          "height": 472
        },
        "id": "oSVaNkoV6PSH",
        "outputId": "cf624cfd-9dd0-47d0-cdc4-46df04906005"
      },
      "execution_count": 43,
      "outputs": [
        {
          "output_type": "display_data",
          "data": {
            "text/plain": [
              "<Figure size 640x480 with 1 Axes>"
            ],
            "image/png": "[encoded data removed]"
          },
          "metadata": {}
        }
      ]
    },
    {
      "cell_type": "code",
      "source": [
        "df_Train['Visitors with Patient'].value_counts()"
      ],
      "metadata": {
        "colab": {
          "base_uri": "https://localhost:8080/"
        },
        "id": "RkMCA7uN6QHs",
        "outputId": "b56232e1-0821-4e22-8361-0fb2738b90e5"
      },
      "execution_count": 44,
      "outputs": [
        {
          "output_type": "execute_result",
          "data": {
            "text/plain": [
              "2.0     5687\n",
              "4.0     3144\n",
              "3.0     2021\n",
              "6.0      832\n",
              "5.0      377\n",
              "8.0      190\n",
              "7.0       78\n",
              "9.0       71\n",
              "1.0       57\n",
              "10.0      38\n",
              "15.0      32\n",
              "12.0      30\n",
              "11.0      18\n",
              "24.0       8\n",
              "16.0       8\n",
              "13.0       6\n",
              "14.0       4\n",
              "20.0       2\n",
              "0.0        1\n",
              "Name: Visitors with Patient, dtype: int64"
            ]
          },
          "metadata": {},
          "execution_count": 44
        }
      ]
    },
    {
      "cell_type": "code",
      "source": [
        "sns.countplot(x='Visitors with Patient',data=df_Train)\n",
        "plt.xlabel(\"Visitors with Patient\")\n",
        "plt.ylabel(\"Count\")\n",
        "plt.title(\"Visitors with Patient Count\")\n",
        "plt.show()"
      ],
      "metadata": {
        "colab": {
          "base_uri": "https://localhost:8080/",
          "height": 472
        },
        "id": "j334FcAu6USR",
        "outputId": "4b76b63f-c656-4dcf-ff4b-638460350f1f"
      },
      "execution_count": 45,
      "outputs": [
        {
          "output_type": "display_data",
          "data": {
            "text/plain": [
              "<Figure size 640x480 with 1 Axes>"
            ],
            "image/png": "[encoded data removed]"
          },
          "metadata": {}
        }
      ]
    },
    {
      "cell_type": "code",
      "source": [
        "df_Train['Age'].value_counts()\n"
      ],
      "metadata": {
        "colab": {
          "base_uri": "https://localhost:8080/"
        },
        "id": "AhWDL6Cb6XUm",
        "outputId": "e64f0a9c-df34-44d2-f36f-5d7d99104ca1"
      },
      "execution_count": 46,
      "outputs": [
        {
          "output_type": "execute_result",
          "data": {
            "text/plain": [
              "31-40     2375\n",
              "41-50     2228\n",
              "71-80     2061\n",
              "51-60     1776\n",
              "61-70     1596\n",
              "21-30     1335\n",
              "81-90      558\n",
              "11-20      500\n",
              "0-10       118\n",
              "91-100      57\n",
              "Name: Age, dtype: int64"
            ]
          },
          "metadata": {},
          "execution_count": 46
        }
      ]
    },
    {
      "cell_type": "code",
      "source": [
        "sns.countplot(x='Age',data=df_Train)\n",
        "plt.xlabel(\"Age\")\n",
        "plt.ylabel(\"Count\")\n",
        "plt.title(\"Age Count\")\n",
        "plt.show()"
      ],
      "metadata": {
        "colab": {
          "base_uri": "https://localhost:8080/",
          "height": 472
        },
        "id": "keAYPP2N6bOY",
        "outputId": "32d290d3-d51c-46ea-ac42-306709a148dd"
      },
      "execution_count": 47,
      "outputs": [
        {
          "output_type": "display_data",
          "data": {
            "text/plain": [
              "<Figure size 640x480 with 1 Axes>"
            ],
            "image/png": "[encoded data removed]"
          },
          "metadata": {}
        }
      ]
    },
    {
      "cell_type": "code",
      "source": [
        "sns.boxplot(x=df_Train['Admission_Deposit'])\n",
        "plt.xlabel(\"Admission Deposit\")\n",
        "plt.title(\"Admission_Deposit\")\n",
        "plt.show()"
      ],
      "metadata": {
        "colab": {
          "base_uri": "https://localhost:8080/",
          "height": 472
        },
        "id": "ua3DDcv96d1E",
        "outputId": "780b6085-ab31-44fe-ff0c-a76968360c4f"
      },
      "execution_count": 48,
      "outputs": [
        {
          "output_type": "display_data",
          "data": {
            "text/plain": [
              "<Figure size 640x480 with 1 Axes>"
            ],
            "image/png": "[encoded data removed]"
          },
          "metadata": {}
        }
      ]
    },
    {
      "cell_type": "code",
      "source": [
        "df_Train.drop_duplicates(keep='first', inplace=True)"
      ],
      "metadata": {
        "id": "O_Z4zwxV6hPM"
      },
      "execution_count": 49,
      "outputs": []
    },
    {
      "cell_type": "code",
      "source": [
        "df_Train['is_train'] = 1\n",
        "df_Test['is_train'] = 0\n",
        "\n",
        "#df_Frames = [df_Train,df_Test]\n",
        "df_Total = pd.concat([df_Train, df_Test])"
      ],
      "metadata": {
        "id": "hParWO996leU"
      },
      "execution_count": 50,
      "outputs": []
    },
    {
      "cell_type": "code",
      "source": [
        "print('Null values in Total Data: \\n', df_Total.isnull().sum())"
      ],
      "metadata": {
        "colab": {
          "base_uri": "https://localhost:8080/"
        },
        "id": "Crzykd0R6p_x",
        "outputId": "a9a57ca9-70ef-4d68-a204-3985ba7bd93f"
      },
      "execution_count": 51,
      "outputs": [
        {
          "output_type": "stream",
          "name": "stdout",
          "text": [
            "Null values in Total Data: \n",
            " case_id                                  0\n",
            "Hospital_code                            1\n",
            "Hospital_type_code                       1\n",
            "City_Code_Hospital                       1\n",
            "Hospital_region_code                     1\n",
            "Available Extra Rooms in Hospital        1\n",
            "Department                               1\n",
            "Ward_Type                                2\n",
            "Ward_Facility_Code                       2\n",
            "Bed Grade                                9\n",
            "patientid                                2\n",
            "City_Code_Patient                      409\n",
            "Type of Admission                        2\n",
            "Severity of Illness                      2\n",
            "Visitors with Patient                    2\n",
            "Age                                      2\n",
            "Admission_Deposit                        2\n",
            "Stay                                 26604\n",
            "is_train                                 0\n",
            "dtype: int64\n"
          ]
        }
      ]
    },
    {
      "cell_type": "code",
      "source": [
        "df_Total['Bed Grade']=df_Total['Bed Grade'].fillna(method=\"ffill\",axis=0)\n",
        "df_Total['City_Code_Patient']=df_Total['City_Code_Patient'].fillna(method=\"ffill\",axis=0)"
      ],
      "metadata": {
        "id": "y_El2KyN6tyK"
      },
      "execution_count": 52,
      "outputs": []
    },
    {
      "cell_type": "code",
      "source": [
        "df_Total['Bill_per_patient'] = df_Total.groupby('patientid')['Admission_Deposit'].transform('sum')\n",
        "df_Total['Min_Severity_of_Illness'] = df_Total.groupby('patientid')['Severity of Illness'].transform('min')\n"
      ],
      "metadata": {
        "id": "8F5r7TQ66y9e"
      },
      "execution_count": 53,
      "outputs": []
    },
    {
      "cell_type": "code",
      "source": [
        "sns.boxplot(x=df_Total['Bill_per_patient'])\n",
        "plt.xlabel(\"Bill_per_patient\")\n",
        "plt.title(\"Bill_per_patient\")\n",
        "plt.show()"
      ],
      "metadata": {
        "colab": {
          "base_uri": "https://localhost:8080/",
          "height": 472
        },
        "id": "4EJxizuT69Qo",
        "outputId": "45f2027a-e300-493e-b3b7-94db7df796b8"
      },
      "execution_count": 54,
      "outputs": [
        {
          "output_type": "display_data",
          "data": {
            "text/plain": [
              "<Figure size 640x480 with 1 Axes>"
            ],
            "image/png": "[encoded data removed]"
          },
          "metadata": {}
        }
      ]
    },
    {
      "cell_type": "code",
      "source": [
        "df_Total.head()"
      ],
      "metadata": {
        "colab": {
          "base_uri": "https://localhost:8080/",
          "height": 438
        },
        "id": "ozDEWRtk7DRT",
        "outputId": "4999e9c4-6e0e-4233-afb8-9499a3f9ac11"
      },
      "execution_count": 55,
      "outputs": [
        {
          "output_type": "execute_result",
          "data": {
            "text/plain": [
              "   case_id  Hospital_code Hospital_type_code  City_Code_Hospital  \\\n",
              "0        1            8.0                  c                 3.0   \n",
              "1        2            2.0                  c                 5.0   \n",
              "2        3           10.0                  e                 1.0   \n",
              "3        4           26.0                  b                 2.0   \n",
              "4        5           26.0                  b                 2.0   \n",
              "\n",
              "  Hospital_region_code  Available Extra Rooms in Hospital    Department  \\\n",
              "0                    Z                                3.0  radiotherapy   \n",
              "1                    Z                                2.0  radiotherapy   \n",
              "2                    X                                2.0    anesthesia   \n",
              "3                    Y                                2.0  radiotherapy   \n",
              "4                    Y                                2.0  radiotherapy   \n",
              "\n",
              "  Ward_Type Ward_Facility_Code  Bed Grade  ...  City_Code_Patient  \\\n",
              "0         R                  F        2.0  ...                7.0   \n",
              "1         S                  F        2.0  ...                7.0   \n",
              "2         S                  E        2.0  ...                7.0   \n",
              "3         R                  D        2.0  ...                7.0   \n",
              "4         S                  D        2.0  ...                7.0   \n",
              "\n",
              "   Type of Admission Severity of Illness Visitors with Patient    Age  \\\n",
              "0          Emergency             Extreme                   2.0  51-60   \n",
              "1             Trauma             Extreme                   2.0  51-60   \n",
              "2             Trauma             Extreme                   2.0  51-60   \n",
              "3             Trauma             Extreme                   2.0  51-60   \n",
              "4             Trauma             Extreme                   2.0  51-60   \n",
              "\n",
              "  Admission_Deposit   Stay is_train  Bill_per_patient  Min_Severity_of_Illness  \n",
              "0            4911.0   0-10        1           83314.0                  Extreme  \n",
              "1            5954.0  41-50        1           83314.0                  Extreme  \n",
              "2            4745.0  31-40        1           83314.0                  Extreme  \n",
              "3            7272.0  41-50        1           83314.0                  Extreme  \n",
              "4            5558.0  41-50        1           83314.0                  Extreme  \n",
              "\n",
              "[5 rows x 21 columns]"
            ],
            "text/html": [
              "\n",
              "  <div id=\"df-df87b648-ed54-40dc-9df7-8fcbcc3178f8\">\n",
              "    <div class=\"colab-df-container\">\n",
              "      <div>\n",
              "<style scoped>\n",
              "    .dataframe tbody tr th:only-of-type {\n",
              "        vertical-align: middle;\n",
              "    }\n",
              "\n",
              "    .dataframe tbody tr th {\n",
              "        vertical-align: top;\n",
              "    }\n",
              "\n",
              "    .dataframe thead th {\n",
              "        text-align: right;\n",
              "    }\n",
              "</style>\n",
              "<table border=\"1\" class=\"dataframe\">\n",
              "  <thead>\n",
              "    <tr style=\"text-align: right;\">\n",
              "      <th></th>\n",
              "      <th>case_id</th>\n",
              "      <th>Hospital_code</th>\n",
              "      <th>Hospital_type_code</th>\n",
              "      <th>City_Code_Hospital</th>\n",
              "      <th>Hospital_region_code</th>\n",
              "      <th>Available Extra Rooms in Hospital</th>\n",
              "      <th>Department</th>\n",
              "      <th>Ward_Type</th>\n",
              "      <th>Ward_Facility_Code</th>\n",
              "      <th>Bed Grade</th>\n",
              "      <th>...</th>\n",
              "      <th>City_Code_Patient</th>\n",
              "      <th>Type of Admission</th>\n",
              "      <th>Severity of Illness</th>\n",
              "      <th>Visitors with Patient</th>\n",
              "      <th>Age</th>\n",
              "      <th>Admission_Deposit</th>\n",
              "      <th>Stay</th>\n",
              "      <th>is_train</th>\n",
              "      <th>Bill_per_patient</th>\n",
              "      <th>Min_Severity_of_Illness</th>\n",
              "    </tr>\n",
              "  </thead>\n",
              "  <tbody>\n",
              "    <tr>\n",
              "      <th>0</th>\n",
              "      <td>1</td>\n",
              "      <td>8.0</td>\n",
              "      <td>c</td>\n",
              "      <td>3.0</td>\n",
              "      <td>Z</td>\n",
              "      <td>3.0</td>\n",
              "      <td>radiotherapy</td>\n",
              "      <td>R</td>\n",
              "      <td>F</td>\n",
              "      <td>2.0</td>\n",
              "      <td>...</td>\n",
              "      <td>7.0</td>\n",
              "      <td>Emergency</td>\n",
              "      <td>Extreme</td>\n",
              "      <td>2.0</td>\n",
              "      <td>51-60</td>\n",
              "      <td>4911.0</td>\n",
              "      <td>0-10</td>\n",
              "      <td>1</td>\n",
              "      <td>83314.0</td>\n",
              "      <td>Extreme</td>\n",
              "    </tr>\n",
              "    <tr>\n",
              "      <th>1</th>\n",
              "      <td>2</td>\n",
              "      <td>2.0</td>\n",
              "      <td>c</td>\n",
              "      <td>5.0</td>\n",
              "      <td>Z</td>\n",
              "      <td>2.0</td>\n",
              "      <td>radiotherapy</td>\n",
              "      <td>S</td>\n",
              "      <td>F</td>\n",
              "      <td>2.0</td>\n",
              "      <td>...</td>\n",
              "      <td>7.0</td>\n",
              "      <td>Trauma</td>\n",
              "      <td>Extreme</td>\n",
              "      <td>2.0</td>\n",
              "      <td>51-60</td>\n",
              "      <td>5954.0</td>\n",
              "      <td>41-50</td>\n",
              "      <td>1</td>\n",
              "      <td>83314.0</td>\n",
              "      <td>Extreme</td>\n",
              "    </tr>\n",
              "    <tr>\n",
              "      <th>2</th>\n",
              "      <td>3</td>\n",
              "      <td>10.0</td>\n",
              "      <td>e</td>\n",
              "      <td>1.0</td>\n",
              "      <td>X</td>\n",
              "      <td>2.0</td>\n",
              "      <td>anesthesia</td>\n",
              "      <td>S</td>\n",
              "      <td>E</td>\n",
              "      <td>2.0</td>\n",
              "      <td>...</td>\n",
              "      <td>7.0</td>\n",
              "      <td>Trauma</td>\n",
              "      <td>Extreme</td>\n",
              "      <td>2.0</td>\n",
              "      <td>51-60</td>\n",
              "      <td>4745.0</td>\n",
              "      <td>31-40</td>\n",
              "      <td>1</td>\n",
              "      <td>83314.0</td>\n",
              "      <td>Extreme</td>\n",
              "    </tr>\n",
              "    <tr>\n",
              "      <th>3</th>\n",
              "      <td>4</td>\n",
              "      <td>26.0</td>\n",
              "      <td>b</td>\n",
              "      <td>2.0</td>\n",
              "      <td>Y</td>\n",
              "      <td>2.0</td>\n",
              "      <td>radiotherapy</td>\n",
              "      <td>R</td>\n",
              "      <td>D</td>\n",
              "      <td>2.0</td>\n",
              "      <td>...</td>\n",
              "      <td>7.0</td>\n",
              "      <td>Trauma</td>\n",
              "      <td>Extreme</td>\n",
              "      <td>2.0</td>\n",
              "      <td>51-60</td>\n",
              "      <td>7272.0</td>\n",
              "      <td>41-50</td>\n",
              "      <td>1</td>\n",
              "      <td>83314.0</td>\n",
              "      <td>Extreme</td>\n",
              "    </tr>\n",
              "    <tr>\n",
              "      <th>4</th>\n",
              "      <td>5</td>\n",
              "      <td>26.0</td>\n",
              "      <td>b</td>\n",
              "      <td>2.0</td>\n",
              "      <td>Y</td>\n",
              "      <td>2.0</td>\n",
              "      <td>radiotherapy</td>\n",
              "      <td>S</td>\n",
              "      <td>D</td>\n",
              "      <td>2.0</td>\n",
              "      <td>...</td>\n",
              "      <td>7.0</td>\n",
              "      <td>Trauma</td>\n",
              "      <td>Extreme</td>\n",
              "      <td>2.0</td>\n",
              "      <td>51-60</td>\n",
              "      <td>5558.0</td>\n",
              "      <td>41-50</td>\n",
              "      <td>1</td>\n",
              "      <td>83314.0</td>\n",
              "      <td>Extreme</td>\n",
              "    </tr>\n",
              "  </tbody>\n",
              "</table>\n",
              "<p>5 rows × 21 columns</p>\n",
              "</div>\n",
              "      <button class=\"colab-df-convert\" onclick=\"convertToInteractive('df-df87b648-ed54-40dc-9df7-8fcbcc3178f8')\"\n",
              "              title=\"Convert this dataframe to an interactive table.\"\n",
              "              style=\"display:none;\">\n",
              "        \n",
              "  <svg xmlns=\"http://www.w3.org/2000/svg\" height=\"24px\"viewBox=\"0 0 24 24\"\n",
              "       width=\"24px\">\n",
              "    <path d=\"M0 0h24v24H0V0z\" fill=\"none\"/>\n",
              "    <path d=\"M18.56 5.44l.94 2.06.94-2.06 2.06-.94-2.06-.94-.94-2.06-.94 2.06-2.06.94zm-11 1L8.5 8.5l.94-2.06 2.06-.94-2.06-.94L8.5 2.5l-.94 2.06-2.06.94zm10 10l.94 2.06.94-2.06 2.06-.94-2.06-.94-.94-2.06-.94 2.06-2.06.94z\"/><path d=\"M17.41 7.96l-1.37-1.37c-.4-.4-.92-.59-1.43-.59-.52 0-1.04.2-1.43.59L10.3 9.45l-7.72 7.72c-.78.78-.78 2.05 0 2.83L4 21.41c.39.39.9.59 1.41.59.51 0 1.02-.2 1.41-.59l7.78-7.78 2.81-2.81c.8-.78.8-2.07 0-2.86zM5.41 20L4 18.59l7.72-7.72 1.47 1.35L5.41 20z\"/>\n",
              "  </svg>\n",
              "      </button>\n",
              "      \n",
              "  <style>\n",
              "    .colab-df-container {\n",
              "      display:flex;\n",
              "      flex-wrap:wrap;\n",
              "      gap: 12px;\n",
              "    }\n",
              "\n",
              "    .colab-df-convert {\n",
              "      background-color: #E8F0FE;\n",
              "      border: none;\n",
              "      border-radius: 50%;\n",
              "      cursor: pointer;\n",
              "      display: none;\n",
              "      fill: #1967D2;\n",
              "      height: 32px;\n",
              "      padding: 0 0 0 0;\n",
              "      width: 32px;\n",
              "    }\n",
              "\n",
              "    .colab-df-convert:hover {\n",
              "      background-color: #E2EBFA;\n",
              "      box-shadow: 0px 1px 2px rgba(60, 64, 67, 0.3), 0px 1px 3px 1px rgba(60, 64, 67, 0.15);\n",
              "      fill: #174EA6;\n",
              "    }\n",
              "\n",
              "    [theme=dark] .colab-df-convert {\n",
              "      background-color: #3B4455;\n",
              "      fill: #D2E3FC;\n",
              "    }\n",
              "\n",
              "    [theme=dark] .colab-df-convert:hover {\n",
              "      background-color: #434B5C;\n",
              "      box-shadow: 0px 1px 3px 1px rgba(0, 0, 0, 0.15);\n",
              "      filter: drop-shadow(0px 1px 2px rgba(0, 0, 0, 0.3));\n",
              "      fill: #FFFFFF;\n",
              "    }\n",
              "  </style>\n",
              "\n",
              "      <script>\n",
              "        const buttonEl =\n",
              "          document.querySelector('#df-df87b648-ed54-40dc-9df7-8fcbcc3178f8 button.colab-df-convert');\n",
              "        buttonEl.style.display =\n",
              "          google.colab.kernel.accessAllowed ? 'block' : 'none';\n",
              "\n",
              "        async function convertToInteractive(key) {\n",
              "          const element = document.querySelector('#df-df87b648-ed54-40dc-9df7-8fcbcc3178f8');\n",
              "          const dataTable =\n",
              "            await google.colab.kernel.invokeFunction('convertToInteractive',\n",
              "                                                     [key], {});\n",
              "          if (!dataTable) return;\n",
              "\n",
              "          const docLinkHtml = 'Like what you see? Visit the ' +\n",
              "            '<a target=\"_blank\" href=https://colab.research.google.com/notebooks/data_table.ipynb>data table notebook</a>'\n",
              "            + ' to learn more about interactive tables.';\n",
              "          element.innerHTML = '';\n",
              "          dataTable['output_type'] = 'display_data';\n",
              "          await google.colab.output.renderOutput(dataTable, element);\n",
              "          const docLink = document.createElement('div');\n",
              "          docLink.innerHTML = docLinkHtml;\n",
              "          element.appendChild(docLink);\n",
              "        }\n",
              "      </script>\n",
              "    </div>\n",
              "  </div>\n",
              "  "
            ]
          },
          "metadata": {},
          "execution_count": 55
        }
      ]
    },
    {
      "cell_type": "code",
      "source": [
        "from sklearn.preprocessing import LabelEncoder\n",
        "le = LabelEncoder()\n",
        "df_Total['Hospital_code'] = le.fit_transform(df_Total['Hospital_code'])\n",
        "df_Total['Hospital_type_code'] = le.fit_transform(df_Total['Hospital_type_code'])\n",
        "df_Total['City_Code_Hospital'] = le.fit_transform(df_Total['City_Code_Hospital'])\n",
        "df_Total['Hospital_region_code'] = le.fit_transform(df_Total['Hospital_region_code'])\n",
        "df_Total['Available Extra Rooms in Hospital'] = le.fit_transform(df_Total['Available Extra Rooms in Hospital'])\n",
        "df_Total['Department'] = le.fit_transform(df_Total['Department'])\n",
        "df_Total['Ward_Type'] = le.fit_transform(df_Total['Ward_Type'])\n",
        "df_Total['Ward_Facility_Code'] = le.fit_transform(df_Total['Ward_Facility_Code'])\n",
        "df_Total['Bed Grade'] = le.fit_transform(df_Total['Bed Grade'])\n",
        "df_Total['patientid'] = le.fit_transform(df_Total['patientid'])\n",
        "df_Total['City_Code_Patient'] = le.fit_transform(df_Total['City_Code_Patient'])\n",
        "df_Total['Type of Admission'] = le.fit_transform(df_Total['Type of Admission'])\n",
        "df_Total['Severity of Illness'] = le.fit_transform(df_Total['Severity of Illness'])\n",
        "df_Total['Visitors with Patient'] = le.fit_transform(df_Total['Visitors with Patient'])\n",
        "df_Total['Age'] = le.fit_transform(df_Total['Age'])\n",
        "df_Total['Min_Severity_of_Illness'] = le.fit_transform(df_Total['Min_Severity_of_Illness'])"
      ],
      "metadata": {
        "id": "QfmfJyWj7Dqk"
      },
      "execution_count": 56,
      "outputs": []
    },
    {
      "cell_type": "code",
      "source": [
        "from sklearn import preprocessing\n",
        "mm_scaler = preprocessing.MinMaxScaler()\n",
        "df_Total[['Admission_Deposit']] = mm_scaler.fit_transform(df_Total[['Admission_Deposit']])\n",
        "df_Total[['Bill_per_patient']] = mm_scaler.fit_transform(df_Total[['Bill_per_patient']])"
      ],
      "metadata": {
        "id": "3YAonMOm7Kzi"
      },
      "execution_count": 57,
      "outputs": []
    },
    {
      "cell_type": "code",
      "source": [
        "df_Total['Admission_Deposit'].describe()"
      ],
      "metadata": {
        "colab": {
          "base_uri": "https://localhost:8080/"
        },
        "id": "Fw0TP4ZZ7NXq",
        "outputId": "483269c2-ccc1-4d58-c3ba-06cc44f08917"
      },
      "execution_count": 58,
      "outputs": [
        {
          "output_type": "execute_result",
          "data": {
            "text/plain": [
              "count    39206.000000\n",
              "mean         0.357297\n",
              "std          0.121554\n",
              "min          0.000000\n",
              "25%          0.279233\n",
              "50%          0.342178\n",
              "75%          0.416380\n",
              "max          1.000000\n",
              "Name: Admission_Deposit, dtype: float64"
            ]
          },
          "metadata": {},
          "execution_count": 58
        }
      ]
    },
    {
      "cell_type": "code",
      "source": [
        "df_Train_final = df_Total[df_Total['is_train'] == 1]\n",
        "df_Test_final = df_Total[df_Total['is_train'] == 0]"
      ],
      "metadata": {
        "id": "xPkDfaRc7PsU"
      },
      "execution_count": 59,
      "outputs": []
    },
    {
      "cell_type": "code",
      "source": [
        "df_Train_final"
      ],
      "metadata": {
        "colab": {
          "base_uri": "https://localhost:8080/",
          "height": 678
        },
        "id": "3SZSdvbv7Spk",
        "outputId": "ed99b4b3-fb5d-4d09-da92-6e5340230c30"
      },
      "execution_count": 60,
      "outputs": [
        {
          "output_type": "execute_result",
          "data": {
            "text/plain": [
              "       case_id  Hospital_code  Hospital_type_code  City_Code_Hospital  \\\n",
              "0            1              7                   2                   2   \n",
              "1            2              1                   2                   4   \n",
              "2            3              9                   4                   0   \n",
              "3            4             25                   1                   1   \n",
              "4            5             25                   1                   1   \n",
              "...        ...            ...                 ...                 ...   \n",
              "12600    12601             26                   0                   6   \n",
              "12601    12602             26                   0                   6   \n",
              "12602    12603             22                   0                   5   \n",
              "12603    12604              5                   0                   5   \n",
              "12604    12605             27                   1                   9   \n",
              "\n",
              "       Hospital_region_code  Available Extra Rooms in Hospital  Department  \\\n",
              "0                         2                                  3           3   \n",
              "1                         2                                  2           3   \n",
              "2                         0                                  2           1   \n",
              "3                         1                                  2           3   \n",
              "4                         1                                  2           3   \n",
              "...                     ...                                ...         ...   \n",
              "12600                     1                                  4           2   \n",
              "12601                     1                                  4           2   \n",
              "12602                     0                                  4           2   \n",
              "12603                     0                                  4           2   \n",
              "12604                     0                                  4           2   \n",
              "\n",
              "       Ward_Type  Ward_Facility_Code  Bed Grade  ...  City_Code_Patient  \\\n",
              "0              2                   5          1  ...                  6   \n",
              "1              3                   5          1  ...                  6   \n",
              "2              3                   4          1  ...                  6   \n",
              "3              2                   3          1  ...                  6   \n",
              "4              3                   3          1  ...                  6   \n",
              "...          ...                 ...        ...  ...                ...   \n",
              "12600          2                   2          1  ...                  7   \n",
              "12601          2                   2          2  ...                  7   \n",
              "12602          2                   5          2  ...                  7   \n",
              "12603          2                   5          2  ...                  7   \n",
              "12604          6                   6          2  ...                  7   \n",
              "\n",
              "       Type of Admission  Severity of Illness  Visitors with Patient  Age  \\\n",
              "0                      0                    0                      2    5   \n",
              "1                      1                    0                      2    5   \n",
              "2                      1                    0                      2    5   \n",
              "3                      1                    0                      2    5   \n",
              "4                      1                    0                      2    5   \n",
              "...                  ...                  ...                    ...  ...   \n",
              "12600                  1                    2                      4    4   \n",
              "12601                  0                    1                      3    5   \n",
              "12602                  1                    1                      2    5   \n",
              "12603                  1                    1                      2    5   \n",
              "12604                  3                    3                     23   10   \n",
              "\n",
              "       Admission_Deposit   Stay is_train  Bill_per_patient  \\\n",
              "0               0.352401   0-10        1          0.469363   \n",
              "1               0.472203  41-50        1          0.469363   \n",
              "2               0.333333  31-40        1          0.469363   \n",
              "3               0.623593  41-50        1          0.469363   \n",
              "4               0.426717  41-50        1          0.469363   \n",
              "...                  ...    ...      ...               ...   \n",
              "12600           0.259706  51-60        1          0.086363   \n",
              "12601           0.301057  11-20        1          0.061747   \n",
              "12602           0.260051  21-30        1          0.061747   \n",
              "12603           0.259476  21-30        1          0.061747   \n",
              "12604                NaN    NaN        1               NaN   \n",
              "\n",
              "       Min_Severity_of_Illness  \n",
              "0                            0  \n",
              "1                            0  \n",
              "2                            0  \n",
              "3                            0  \n",
              "4                            0  \n",
              "...                        ...  \n",
              "12600                        2  \n",
              "12601                        1  \n",
              "12602                        1  \n",
              "12603                        1  \n",
              "12604                        3  \n",
              "\n",
              "[12605 rows x 21 columns]"
            ],
            "text/html": [
              "\n",
              "  <div id=\"df-705f4ab1-1bbc-40e2-acb6-3b38063e18ed\">\n",
              "    <div class=\"colab-df-container\">\n",
              "      <div>\n",
              "<style scoped>\n",
              "    .dataframe tbody tr th:only-of-type {\n",
              "        vertical-align: middle;\n",
              "    }\n",
              "\n",
              "    .dataframe tbody tr th {\n",
              "        vertical-align: top;\n",
              "    }\n",
              "\n",
              "    .dataframe thead th {\n",
              "        text-align: right;\n",
              "    }\n",
              "</style>\n",
              "<table border=\"1\" class=\"dataframe\">\n",
              "  <thead>\n",
              "    <tr style=\"text-align: right;\">\n",
              "      <th></th>\n",
              "      <th>case_id</th>\n",
              "      <th>Hospital_code</th>\n",
              "      <th>Hospital_type_code</th>\n",
              "      <th>City_Code_Hospital</th>\n",
              "      <th>Hospital_region_code</th>\n",
              "      <th>Available Extra Rooms in Hospital</th>\n",
              "      <th>Department</th>\n",
              "      <th>Ward_Type</th>\n",
              "      <th>Ward_Facility_Code</th>\n",
              "      <th>Bed Grade</th>\n",
              "      <th>...</th>\n",
              "      <th>City_Code_Patient</th>\n",
              "      <th>Type of Admission</th>\n",
              "      <th>Severity of Illness</th>\n",
              "      <th>Visitors with Patient</th>\n",
              "      <th>Age</th>\n",
              "      <th>Admission_Deposit</th>\n",
              "      <th>Stay</th>\n",
              "      <th>is_train</th>\n",
              "      <th>Bill_per_patient</th>\n",
              "      <th>Min_Severity_of_Illness</th>\n",
              "    </tr>\n",
              "  </thead>\n",
              "  <tbody>\n",
              "    <tr>\n",
              "      <th>0</th>\n",
              "      <td>1</td>\n",
              "      <td>7</td>\n",
              "      <td>2</td>\n",
              "      <td>2</td>\n",
              "      <td>2</td>\n",
              "      <td>3</td>\n",
              "      <td>3</td>\n",
              "      <td>2</td>\n",
              "      <td>5</td>\n",
              "      <td>1</td>\n",
              "      <td>...</td>\n",
              "      <td>6</td>\n",
              "      <td>0</td>\n",
              "      <td>0</td>\n",
              "      <td>2</td>\n",
              "      <td>5</td>\n",
              "      <td>0.352401</td>\n",
              "      <td>0-10</td>\n",
              "      <td>1</td>\n",
              "      <td>0.469363</td>\n",
              "      <td>0</td>\n",
              "    </tr>\n",
              "    <tr>\n",
              "      <th>1</th>\n",
              "      <td>2</td>\n",
              "      <td>1</td>\n",
              "      <td>2</td>\n",
              "      <td>4</td>\n",
              "      <td>2</td>\n",
              "      <td>2</td>\n",
              "      <td>3</td>\n",
              "      <td>3</td>\n",
              "      <td>5</td>\n",
              "      <td>1</td>\n",
              "      <td>...</td>\n",
              "      <td>6</td>\n",
              "      <td>1</td>\n",
              "      <td>0</td>\n",
              "      <td>2</td>\n",
              "      <td>5</td>\n",
              "      <td>0.472203</td>\n",
              "      <td>41-50</td>\n",
              "      <td>1</td>\n",
              "      <td>0.469363</td>\n",
              "      <td>0</td>\n",
              "    </tr>\n",
              "    <tr>\n",
              "      <th>2</th>\n",
              "      <td>3</td>\n",
              "      <td>9</td>\n",
              "      <td>4</td>\n",
              "      <td>0</td>\n",
              "      <td>0</td>\n",
              "      <td>2</td>\n",
              "      <td>1</td>\n",
              "      <td>3</td>\n",
              "      <td>4</td>\n",
              "      <td>1</td>\n",
              "      <td>...</td>\n",
              "      <td>6</td>\n",
              "      <td>1</td>\n",
              "      <td>0</td>\n",
              "      <td>2</td>\n",
              "      <td>5</td>\n",
              "      <td>0.333333</td>\n",
              "      <td>31-40</td>\n",
              "      <td>1</td>\n",
              "      <td>0.469363</td>\n",
              "      <td>0</td>\n",
              "    </tr>\n",
              "    <tr>\n",
              "      <th>3</th>\n",
              "      <td>4</td>\n",
              "      <td>25</td>\n",
              "      <td>1</td>\n",
              "      <td>1</td>\n",
              "      <td>1</td>\n",
              "      <td>2</td>\n",
              "      <td>3</td>\n",
              "      <td>2</td>\n",
              "      <td>3</td>\n",
              "      <td>1</td>\n",
              "      <td>...</td>\n",
              "      <td>6</td>\n",
              "      <td>1</td>\n",
              "      <td>0</td>\n",
              "      <td>2</td>\n",
              "      <td>5</td>\n",
              "      <td>0.623593</td>\n",
              "      <td>41-50</td>\n",
              "      <td>1</td>\n",
              "      <td>0.469363</td>\n",
              "      <td>0</td>\n",
              "    </tr>\n",
              "    <tr>\n",
              "      <th>4</th>\n",
              "      <td>5</td>\n",
              "      <td>25</td>\n",
              "      <td>1</td>\n",
              "      <td>1</td>\n",
              "      <td>1</td>\n",
              "      <td>2</td>\n",
              "      <td>3</td>\n",
              "      <td>3</td>\n",
              "      <td>3</td>\n",
              "      <td>1</td>\n",
              "      <td>...</td>\n",
              "      <td>6</td>\n",
              "      <td>1</td>\n",
              "      <td>0</td>\n",
              "      <td>2</td>\n",
              "      <td>5</td>\n",
              "      <td>0.426717</td>\n",
              "      <td>41-50</td>\n",
              "      <td>1</td>\n",
              "      <td>0.469363</td>\n",
              "      <td>0</td>\n",
              "    </tr>\n",
              "    <tr>\n",
              "      <th>...</th>\n",
              "      <td>...</td>\n",
              "      <td>...</td>\n",
              "      <td>...</td>\n",
              "      <td>...</td>\n",
              "      <td>...</td>\n",
              "      <td>...</td>\n",
              "      <td>...</td>\n",
              "      <td>...</td>\n",
              "      <td>...</td>\n",
              "      <td>...</td>\n",
              "      <td>...</td>\n",
              "      <td>...</td>\n",
              "      <td>...</td>\n",
              "      <td>...</td>\n",
              "      <td>...</td>\n",
              "      <td>...</td>\n",
              "      <td>...</td>\n",
              "      <td>...</td>\n",
              "      <td>...</td>\n",
              "      <td>...</td>\n",
              "      <td>...</td>\n",
              "    </tr>\n",
              "    <tr>\n",
              "      <th>12600</th>\n",
              "      <td>12601</td>\n",
              "      <td>26</td>\n",
              "      <td>0</td>\n",
              "      <td>6</td>\n",
              "      <td>1</td>\n",
              "      <td>4</td>\n",
              "      <td>2</td>\n",
              "      <td>2</td>\n",
              "      <td>2</td>\n",
              "      <td>1</td>\n",
              "      <td>...</td>\n",
              "      <td>7</td>\n",
              "      <td>1</td>\n",
              "      <td>2</td>\n",
              "      <td>4</td>\n",
              "      <td>4</td>\n",
              "      <td>0.259706</td>\n",
              "      <td>51-60</td>\n",
              "      <td>1</td>\n",
              "      <td>0.086363</td>\n",
              "      <td>2</td>\n",
              "    </tr>\n",
              "    <tr>\n",
              "      <th>12601</th>\n",
              "      <td>12602</td>\n",
              "      <td>26</td>\n",
              "      <td>0</td>\n",
              "      <td>6</td>\n",
              "      <td>1</td>\n",
              "      <td>4</td>\n",
              "      <td>2</td>\n",
              "      <td>2</td>\n",
              "      <td>2</td>\n",
              "      <td>2</td>\n",
              "      <td>...</td>\n",
              "      <td>7</td>\n",
              "      <td>0</td>\n",
              "      <td>1</td>\n",
              "      <td>3</td>\n",
              "      <td>5</td>\n",
              "      <td>0.301057</td>\n",
              "      <td>11-20</td>\n",
              "      <td>1</td>\n",
              "      <td>0.061747</td>\n",
              "      <td>1</td>\n",
              "    </tr>\n",
              "    <tr>\n",
              "      <th>12602</th>\n",
              "      <td>12603</td>\n",
              "      <td>22</td>\n",
              "      <td>0</td>\n",
              "      <td>5</td>\n",
              "      <td>0</td>\n",
              "      <td>4</td>\n",
              "      <td>2</td>\n",
              "      <td>2</td>\n",
              "      <td>5</td>\n",
              "      <td>2</td>\n",
              "      <td>...</td>\n",
              "      <td>7</td>\n",
              "      <td>1</td>\n",
              "      <td>1</td>\n",
              "      <td>2</td>\n",
              "      <td>5</td>\n",
              "      <td>0.260051</td>\n",
              "      <td>21-30</td>\n",
              "      <td>1</td>\n",
              "      <td>0.061747</td>\n",
              "      <td>1</td>\n",
              "    </tr>\n",
              "    <tr>\n",
              "      <th>12603</th>\n",
              "      <td>12604</td>\n",
              "      <td>5</td>\n",
              "      <td>0</td>\n",
              "      <td>5</td>\n",
              "      <td>0</td>\n",
              "      <td>4</td>\n",
              "      <td>2</td>\n",
              "      <td>2</td>\n",
              "      <td>5</td>\n",
              "      <td>2</td>\n",
              "      <td>...</td>\n",
              "      <td>7</td>\n",
              "      <td>1</td>\n",
              "      <td>1</td>\n",
              "      <td>2</td>\n",
              "      <td>5</td>\n",
              "      <td>0.259476</td>\n",
              "      <td>21-30</td>\n",
              "      <td>1</td>\n",
              "      <td>0.061747</td>\n",
              "      <td>1</td>\n",
              "    </tr>\n",
              "    <tr>\n",
              "      <th>12604</th>\n",
              "      <td>12605</td>\n",
              "      <td>27</td>\n",
              "      <td>1</td>\n",
              "      <td>9</td>\n",
              "      <td>0</td>\n",
              "      <td>4</td>\n",
              "      <td>2</td>\n",
              "      <td>6</td>\n",
              "      <td>6</td>\n",
              "      <td>2</td>\n",
              "      <td>...</td>\n",
              "      <td>7</td>\n",
              "      <td>3</td>\n",
              "      <td>3</td>\n",
              "      <td>23</td>\n",
              "      <td>10</td>\n",
              "      <td>NaN</td>\n",
              "      <td>NaN</td>\n",
              "      <td>1</td>\n",
              "      <td>NaN</td>\n",
              "      <td>3</td>\n",
              "    </tr>\n",
              "  </tbody>\n",
              "</table>\n",
              "<p>12605 rows × 21 columns</p>\n",
              "</div>\n",
              "      <button class=\"colab-df-convert\" onclick=\"convertToInteractive('df-705f4ab1-1bbc-40e2-acb6-3b38063e18ed')\"\n",
              "              title=\"Convert this dataframe to an interactive table.\"\n",
              "              style=\"display:none;\">\n",
              "        \n",
              "  <svg xmlns=\"http://www.w3.org/2000/svg\" height=\"24px\"viewBox=\"0 0 24 24\"\n",
              "       width=\"24px\">\n",
              "    <path d=\"M0 0h24v24H0V0z\" fill=\"none\"/>\n",
              "    <path d=\"M18.56 5.44l.94 2.06.94-2.06 2.06-.94-2.06-.94-.94-2.06-.94 2.06-2.06.94zm-11 1L8.5 8.5l.94-2.06 2.06-.94-2.06-.94L8.5 2.5l-.94 2.06-2.06.94zm10 10l.94 2.06.94-2.06 2.06-.94-2.06-.94-.94-2.06-.94 2.06-2.06.94z\"/><path d=\"M17.41 7.96l-1.37-1.37c-.4-.4-.92-.59-1.43-.59-.52 0-1.04.2-1.43.59L10.3 9.45l-7.72 7.72c-.78.78-.78 2.05 0 2.83L4 21.41c.39.39.9.59 1.41.59.51 0 1.02-.2 1.41-.59l7.78-7.78 2.81-2.81c.8-.78.8-2.07 0-2.86zM5.41 20L4 18.59l7.72-7.72 1.47 1.35L5.41 20z\"/>\n",
              "  </svg>\n",
              "      </button>\n",
              "      \n",
              "  <style>\n",
              "    .colab-df-container {\n",
              "      display:flex;\n",
              "      flex-wrap:wrap;\n",
              "      gap: 12px;\n",
              "    }\n",
              "\n",
              "    .colab-df-convert {\n",
              "      background-color: #E8F0FE;\n",
              "      border: none;\n",
              "      border-radius: 50%;\n",
              "      cursor: pointer;\n",
              "      display: none;\n",
              "      fill: #1967D2;\n",
              "      height: 32px;\n",
              "      padding: 0 0 0 0;\n",
              "      width: 32px;\n",
              "    }\n",
              "\n",
              "    .colab-df-convert:hover {\n",
              "      background-color: #E2EBFA;\n",
              "      box-shadow: 0px 1px 2px rgba(60, 64, 67, 0.3), 0px 1px 3px 1px rgba(60, 64, 67, 0.15);\n",
              "      fill: #174EA6;\n",
              "    }\n",
              "\n",
              "    [theme=dark] .colab-df-convert {\n",
              "      background-color: #3B4455;\n",
              "      fill: #D2E3FC;\n",
              "    }\n",
              "\n",
              "    [theme=dark] .colab-df-convert:hover {\n",
              "      background-color: #434B5C;\n",
              "      box-shadow: 0px 1px 3px 1px rgba(0, 0, 0, 0.15);\n",
              "      filter: drop-shadow(0px 1px 2px rgba(0, 0, 0, 0.3));\n",
              "      fill: #FFFFFF;\n",
              "    }\n",
              "  </style>\n",
              "\n",
              "      <script>\n",
              "        const buttonEl =\n",
              "          document.querySelector('#df-705f4ab1-1bbc-40e2-acb6-3b38063e18ed button.colab-df-convert');\n",
              "        buttonEl.style.display =\n",
              "          google.colab.kernel.accessAllowed ? 'block' : 'none';\n",
              "\n",
              "        async function convertToInteractive(key) {\n",
              "          const element = document.querySelector('#df-705f4ab1-1bbc-40e2-acb6-3b38063e18ed');\n",
              "          const dataTable =\n",
              "            await google.colab.kernel.invokeFunction('convertToInteractive',\n",
              "                                                     [key], {});\n",
              "          if (!dataTable) return;\n",
              "\n",
              "          const docLinkHtml = 'Like what you see? Visit the ' +\n",
              "            '<a target=\"_blank\" href=https://colab.research.google.com/notebooks/data_table.ipynb>data table notebook</a>'\n",
              "            + ' to learn more about interactive tables.';\n",
              "          element.innerHTML = '';\n",
              "          dataTable['output_type'] = 'display_data';\n",
              "          await google.colab.output.renderOutput(dataTable, element);\n",
              "          const docLink = document.createElement('div');\n",
              "          docLink.innerHTML = docLinkHtml;\n",
              "          element.appendChild(docLink);\n",
              "        }\n",
              "      </script>\n",
              "    </div>\n",
              "  </div>\n",
              "  "
            ]
          },
          "metadata": {},
          "execution_count": 60
        }
      ]
    },
    {
      "cell_type": "code",
      "source": [
        "df_Train_final.columns"
      ],
      "metadata": {
        "colab": {
          "base_uri": "https://localhost:8080/"
        },
        "id": "IZ-lVeOm7U90",
        "outputId": "5d41a4d5-ee43-4d46-f948-8c9fc04874fe"
      },
      "execution_count": 61,
      "outputs": [
        {
          "output_type": "execute_result",
          "data": {
            "text/plain": [
              "Index(['case_id', 'Hospital_code', 'Hospital_type_code', 'City_Code_Hospital',\n",
              "       'Hospital_region_code', 'Available Extra Rooms in Hospital',\n",
              "       'Department', 'Ward_Type', 'Ward_Facility_Code', 'Bed Grade',\n",
              "       'patientid', 'City_Code_Patient', 'Type of Admission',\n",
              "       'Severity of Illness', 'Visitors with Patient', 'Age',\n",
              "       'Admission_Deposit', 'Stay', 'is_train', 'Bill_per_patient',\n",
              "       'Min_Severity_of_Illness'],\n",
              "      dtype='object')"
            ]
          },
          "metadata": {},
          "execution_count": 61
        }
      ]
    },
    {
      "cell_type": "code",
      "source": [
        "x = df_Train_final\n",
        "x = x.drop(['case_id'], axis=1)\n",
        "#x = x.drop(['patientid'], axis=1)\n",
        "x = x.drop(['is_train'], axis=1)\n",
        "x = x.drop(['Stay'], axis=1)\n",
        "y = df_Train_final['Stay']\n",
        "x_pred = df_Test_final\n",
        "x_pred = x_pred.drop(['case_id'], axis=1)\n",
        "#x_pred = x_pred.drop(['patientid'], axis=1)\n",
        "x_pred = x_pred.drop(['is_train'], axis=1)\n",
        "x_pred = x_pred.drop(['Stay'], axis=1)"
      ],
      "metadata": {
        "id": "tu8wp_Hj7XI6"
      },
      "execution_count": 62,
      "outputs": []
    },
    {
      "cell_type": "code",
      "source": [
        "from sklearn.model_selection import train_test_split\n",
        "x_train, x_valid, y_train, y_valid = train_test_split(x, y, test_size=0.20)"
      ],
      "metadata": {
        "id": "6slh-qa77XT-"
      },
      "execution_count": 63,
      "outputs": []
    },
    {
      "cell_type": "code",
      "source": [
        "pip install optuna"
      ],
      "metadata": {
        "colab": {
          "base_uri": "https://localhost:8080/"
        },
        "id": "Bh6I_WBM9JFd",
        "outputId": "6981a46c-5e38-450b-aa52-85d55a211612"
      },
      "execution_count": 64,
      "outputs": [
        {
          "output_type": "stream",
          "name": "stdout",
          "text": [
            "Looking in indexes: https://pypi.org/simple, https://us-python.pkg.dev/colab-wheels/public/simple/\n",
            "Collecting optuna\n",
            "  Downloading optuna-3.1.1-py3-none-any.whl (365 kB)\n",
            "\u001b[2K     \u001b[90m━━━━━━━━━━━━━━━━━━━━━━━━━━━━━━━━━━━━━━━\u001b[0m \u001b[32m365.7/365.7 kB\u001b[0m \u001b[31m8.2 MB/s\u001b[0m eta \u001b[36m0:00:00\u001b[0m\n",
            "\u001b[?25hRequirement already satisfied: numpy in /usr/local/lib/python3.9/dist-packages (from optuna) (1.22.4)\n",
            "Collecting alembic>=1.5.0\n",
            "  Downloading alembic-1.10.3-py3-none-any.whl (212 kB)\n",
            "\u001b[2K     \u001b[90m━━━━━━━━━━━━━━━━━━━━━━━━━━━━━━━━━━━━━━\u001b[0m \u001b[32m212.3/212.3 kB\u001b[0m \u001b[31m25.0 MB/s\u001b[0m eta \u001b[36m0:00:00\u001b[0m\n",
            "\u001b[?25hCollecting cmaes>=0.9.1\n",
            "  Downloading cmaes-0.9.1-py3-none-any.whl (21 kB)\n",
            "Requirement already satisfied: sqlalchemy>=1.3.0 in /usr/local/lib/python3.9/dist-packages (from optuna) (2.0.9)\n",
            "Requirement already satisfied: packaging>=20.0 in /usr/local/lib/python3.9/dist-packages (from optuna) (23.1)\n",
            "Requirement already satisfied: PyYAML in /usr/local/lib/python3.9/dist-packages (from optuna) (6.0)\n",
            "Requirement already satisfied: tqdm in /usr/local/lib/python3.9/dist-packages (from optuna) (4.65.0)\n",
            "Collecting colorlog\n",
            "  Downloading colorlog-6.7.0-py2.py3-none-any.whl (11 kB)\n",
            "Collecting Mako\n",
            "  Downloading Mako-1.2.4-py3-none-any.whl (78 kB)\n",
            "\u001b[2K     \u001b[90m━━━━━━━━━━━━━━━━━━━━━━━━━━━━━━━━━━━━━━━━\u001b[0m \u001b[32m78.7/78.7 kB\u001b[0m \u001b[31m10.0 MB/s\u001b[0m eta \u001b[36m0:00:00\u001b[0m\n",
            "\u001b[?25hRequirement already satisfied: typing-extensions>=4 in /usr/local/lib/python3.9/dist-packages (from alembic>=1.5.0->optuna) (4.5.0)\n",
            "Requirement already satisfied: greenlet!=0.4.17 in /usr/local/lib/python3.9/dist-packages (from sqlalchemy>=1.3.0->optuna) (2.0.2)\n",
            "Requirement already satisfied: MarkupSafe>=0.9.2 in /usr/local/lib/python3.9/dist-packages (from Mako->alembic>=1.5.0->optuna) (2.1.2)\n",
            "Installing collected packages: Mako, colorlog, cmaes, alembic, optuna\n",
            "Successfully installed Mako-1.2.4 alembic-1.10.3 cmaes-0.9.1 colorlog-6.7.0 optuna-3.1.1\n"
          ]
        }
      ]
    },
    {
      "cell_type": "code",
      "source": [
        "import lightgbm as lgb\n",
        "import optuna"
      ],
      "metadata": {
        "id": "5_uqOLpN7eEi"
      },
      "execution_count": 65,
      "outputs": []
    },
    {
      "cell_type": "code",
      "source": [
        "def objective(trial):\n",
        "    dtrain = lgb.Dataset(x_train, label=np.ravel(y_train))\n",
        "\n",
        "    param = {\n",
        "        #\"objective\": \"multiclass\",\n",
        "        #\"metric\": \"multi_logloss\",\n",
        "        #\"num_class\": 11,\n",
        "        \"verbosity\": -1,\n",
        "        \"boosting_type\": \"gbdt\",\n",
        "        \"lambda_l1\": trial.suggest_float(\"lambda_l1\", 1e-8, 10.0, log=True),\n",
        "        \"lambda_l2\": trial.suggest_float(\"lambda_l2\", 1e-8, 10.0, log=True),\n",
        "        \"num_leaves\": trial.suggest_int(\"num_leaves\", 2, 256),\n",
        "        \"feature_fraction\": trial.suggest_float(\"feature_fraction\", 0.4, 1.0),\n",
        "        \"bagging_fraction\": trial.suggest_float(\"bagging_fraction\", 0.4, 1.0),\n",
        "        \"bagging_freq\": trial.suggest_int(\"bagging_freq\", 1, 7),\n",
        "        \"min_child_samples\": trial.suggest_int(\"min_child_samples\", 5, 100)\n",
        "        #\"n_estimators\":trial.suggest_int(\"n_estimators\", 0, 1000),\n",
        "        #\"learning_rate\":trial.suggest_int(\"n_estimators\", 0, 99)\n",
        "    }\n",
        "\n",
        "    gbm = lgb.train(param, dtrain)\n",
        "    preds = gbm.predict(x_valid)\n",
        "    pred_labels = np.rint(preds)\n",
        "    accuracy = sklearn.metrics.accuracy_score(y_valid, pred_labels)\n",
        "    return accuracy"
      ],
      "metadata": {
        "id": "vBsBL1Sr7eH-"
      },
      "execution_count": 66,
      "outputs": []
    },
    {
      "cell_type": "code",
      "source": [
        "import lightgbm as lgb\n",
        "lgb_cl = lgb.LGBMClassifier(boosting_type='gbdt', learning_rate=0.1, n_estimators=50000, importance_type='gain', objective='multiclass', num_boost_round=100,\n",
        "                            min_child_samples=70, num_leaves=246, #max_depth=5, \n",
        "                            lambda_l1=9.62, lambda_l2=0.006, feature_fraction=0.73, bagging_fraction=0.82, bagging_freg=6,\n",
        "                            #max_bin=60, bagging_faction=0.9, feature_fraction=0.9, subsample_freq=2, scale_pos_weight=2.5, \n",
        "                            random_state=294, n_jobs=-1, silent=False) #score accuracy 42.70"
      ],
      "metadata": {
        "id": "cZt0Ihfq7pdo"
      },
      "execution_count": 67,
      "outputs": []
    }
  ]
}